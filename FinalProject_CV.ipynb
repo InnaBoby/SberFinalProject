{
  "cells": [
    {
      "cell_type": "code",
      "source": [
        "from torchvision import transforms\n",
        "\n",
        "image_mean = [0.485, 0.456, 0.406]\n",
        "image_std  = [0.229, 0.224, 0.225]\n",
        "\n",
        "transformer = transforms.Compose([\n",
        "    transforms.ToTensor(),                      \n",
        "    transforms.Normalize(image_mean, image_std)])\n",
        "\n",
        "transformer_augmented = transforms.Compose([    \n",
        "    transforms.RandomRotation(15),\n",
        "    transforms.RandomHorizontalFlip(p=.5),\n",
        "    transforms.ToTensor(),\n",
        "    transforms.Normalize(image_mean, image_std)])"
      ],
      "metadata": {
        "id": "NKqDoXck27wL"
      },
      "execution_count": 1,
      "outputs": []
    },
    {
      "cell_type": "code",
      "execution_count": 2,
      "metadata": {
        "colab": {
          "base_uri": "https://localhost:8080/",
          "height": 84,
          "referenced_widgets": [
            "e7de0389a1374a79b8ecade509eab579",
            "6be207a64c33410181a66694730829f8",
            "68d1cf52d8734818993e898694f9b26d",
            "13defc17114b412199270de7a352d237",
            "cee09959094d4e94bca06473aff10e0a",
            "7f2775e7b3a34f21898c621cf2988407",
            "38577810f63a43c3a9eae1b3cdb1d86b",
            "fe46c39d89894861bc3166352c79df16",
            "f38acbf996104bc69785b32dd24ed720",
            "e388631c0b8f4943a578a30a7274c0c3",
            "0f88cc7a24d8456eb1ca58ca3463b98b"
          ]
        },
        "id": "dRwoLxCJzvfJ",
        "outputId": "664d1500-f4c4-4750-8dc2-109ee73f14be"
      },
      "outputs": [
        {
          "output_type": "stream",
          "name": "stdout",
          "text": [
            "Downloading https://www.cs.toronto.edu/~kriz/cifar-10-python.tar.gz to ./data/cifar-10-python.tar.gz\n"
          ]
        },
        {
          "output_type": "display_data",
          "data": {
            "text/plain": [
              "  0%|          | 0/170498071 [00:00<?, ?it/s]"
            ],
            "application/vnd.jupyter.widget-view+json": {
              "version_major": 2,
              "version_minor": 0,
              "model_id": "e7de0389a1374a79b8ecade509eab579"
            }
          },
          "metadata": {}
        },
        {
          "output_type": "stream",
          "name": "stdout",
          "text": [
            "Extracting ./data/cifar-10-python.tar.gz to ./data\n"
          ]
        }
      ],
      "source": [
        "import torchvision\n",
        "\n",
        "# загружаем тренировочный датасет CIFAR10\n",
        "train_dataset = torchvision.datasets.CIFAR10(\n",
        "    root='./data', \n",
        "    train=True,\n",
        "    download=True, \n",
        "    transform=transformer_augmented)"
      ]
    },
    {
      "cell_type": "code",
      "execution_count": 3,
      "metadata": {
        "colab": {
          "base_uri": "https://localhost:8080/"
        },
        "id": "aGW5Sfc20x3U",
        "outputId": "c37382c5-0cc0-4654-8661-e7615e7bdf41"
      },
      "outputs": [
        {
          "output_type": "execute_result",
          "data": {
            "text/plain": [
              "Dataset CIFAR10\n",
              "    Number of datapoints: 50000\n",
              "    Root location: ./data\n",
              "    Split: Train\n",
              "    StandardTransform\n",
              "Transform: Compose(\n",
              "               RandomRotation(degrees=[-15.0, 15.0], interpolation=nearest, expand=False, fill=0)\n",
              "               RandomHorizontalFlip(p=0.5)\n",
              "               ToTensor()\n",
              "               Normalize(mean=[0.485, 0.456, 0.406], std=[0.229, 0.224, 0.225])\n",
              "           )"
            ]
          },
          "metadata": {},
          "execution_count": 3
        }
      ],
      "source": [
        "train_dataset"
      ]
    },
    {
      "cell_type": "code",
      "execution_count": 4,
      "metadata": {
        "colab": {
          "base_uri": "https://localhost:8080/"
        },
        "id": "0nVier5709Iu",
        "outputId": "9c9ccf79-6a78-44bd-d612-42b2055d051a"
      },
      "outputs": [
        {
          "output_type": "stream",
          "name": "stdout",
          "text": [
            "Files already downloaded and verified\n"
          ]
        }
      ],
      "source": [
        "# загружаем тестовый датасет CIFAR10\n",
        "test_dataset = torchvision.datasets.CIFAR10(\n",
        "    root='./data', \n",
        "    train=False,\n",
        "    download=True, \n",
        "    transform=transformer)"
      ]
    },
    {
      "cell_type": "code",
      "execution_count": 5,
      "metadata": {
        "id": "qQZDZ1qS2WZB"
      },
      "outputs": [],
      "source": [
        "classes = ('plane', 'car', 'bird', 'cat', 'deer', 'dog', 'frog', 'horse', 'ship', 'truck')"
      ]
    },
    {
      "cell_type": "code",
      "execution_count": 6,
      "metadata": {
        "id": "U53hOCQA1R42"
      },
      "outputs": [],
      "source": [
        "# Создаем загрузчики для датасетов (DataLoader)\n",
        "\n",
        "import torch\n",
        "\n",
        "batch_size_train = 64\n",
        "batch_size_test = 100\n",
        "\n",
        "#Загрузчик для тренировочного сета\n",
        "train_loader = torch.utils.data.DataLoader(\n",
        "  train_dataset,\n",
        "  batch_size=batch_size_train,\n",
        "  shuffle=True)\n",
        "\n",
        "#Загрузчик для тестового сета\n",
        "test_loader = torch.utils.data.DataLoader(\n",
        "  test_dataset,\n",
        "  batch_size=batch_size_test, \n",
        "  shuffle=True)"
      ]
    },
    {
      "cell_type": "code",
      "execution_count": 7,
      "metadata": {
        "colab": {
          "base_uri": "https://localhost:8080/",
          "height": 408
        },
        "id": "WxSOFHAL1xs4",
        "outputId": "8dc1b4af-2adb-4bb6-8038-7f3e525fd06f"
      },
      "outputs": [
        {
          "output_type": "stream",
          "name": "stderr",
          "text": [
            "WARNING:matplotlib.image:Clipping input data to the valid range for imshow with RGB data ([0..1] for floats or [0..255] for integers).\n",
            "WARNING:matplotlib.image:Clipping input data to the valid range for imshow with RGB data ([0..1] for floats or [0..255] for integers).\n",
            "WARNING:matplotlib.image:Clipping input data to the valid range for imshow with RGB data ([0..1] for floats or [0..255] for integers).\n",
            "WARNING:matplotlib.image:Clipping input data to the valid range for imshow with RGB data ([0..1] for floats or [0..255] for integers).\n",
            "WARNING:matplotlib.image:Clipping input data to the valid range for imshow with RGB data ([0..1] for floats or [0..255] for integers).\n",
            "WARNING:matplotlib.image:Clipping input data to the valid range for imshow with RGB data ([0..1] for floats or [0..255] for integers).\n"
          ]
        },
        {
          "output_type": "display_data",
          "data": {
            "text/plain": [
              "<Figure size 432x288 with 6 Axes>"
            ],
            "image/png": "[encoded data removed]"
          },
          "metadata": {}
        }
      ],
      "source": [
        "# Визуализируем несколько изображений из обучающего датасета\n",
        "\n",
        "import matplotlib.pyplot as plt\n",
        "%matplotlib inline\n",
        "import numpy as np\n",
        "\n",
        "examples = enumerate(train_loader)\n",
        "batch_idx, (example_data, example_targets) = next(examples)\n",
        "\n",
        "fig = plt.figure()\n",
        "for i in range(6):\n",
        "  plt.subplot(2,3,i+1)\n",
        "  plt.tight_layout()\n",
        "  plt.imshow(np.transpose(example_data[i]), interpolation='none')\n",
        "  plt.title(f\"Label: {classes[example_targets[i]]}\")\n",
        "  plt.xticks([])\n",
        "  plt.yticks([])"
      ]
    },
    {
      "cell_type": "code",
      "execution_count": 8,
      "metadata": {
        "colab": {
          "base_uri": "https://localhost:8080/",
          "height": 408
        },
        "id": "mNNeGv0QmYtc",
        "outputId": "3a3bc653-15a1-42f8-b75f-203ca010574a"
      },
      "outputs": [
        {
          "output_type": "stream",
          "name": "stderr",
          "text": [
            "WARNING:matplotlib.image:Clipping input data to the valid range for imshow with RGB data ([0..1] for floats or [0..255] for integers).\n",
            "WARNING:matplotlib.image:Clipping input data to the valid range for imshow with RGB data ([0..1] for floats or [0..255] for integers).\n",
            "WARNING:matplotlib.image:Clipping input data to the valid range for imshow with RGB data ([0..1] for floats or [0..255] for integers).\n",
            "WARNING:matplotlib.image:Clipping input data to the valid range for imshow with RGB data ([0..1] for floats or [0..255] for integers).\n",
            "WARNING:matplotlib.image:Clipping input data to the valid range for imshow with RGB data ([0..1] for floats or [0..255] for integers).\n",
            "WARNING:matplotlib.image:Clipping input data to the valid range for imshow with RGB data ([0..1] for floats or [0..255] for integers).\n"
          ]
        },
        {
          "output_type": "display_data",
          "data": {
            "text/plain": [
              "<Figure size 432x288 with 6 Axes>"
            ],
            "image/png": "[encoded data removed]"
          },
          "metadata": {}
        }
      ],
      "source": [
        "#Визуализируем изображения из тестового датасета\n",
        "\n",
        "examples = enumerate(test_loader)\n",
        "batch_idx, (example_data, example_targets) = next(examples)\n",
        "\n",
        "fig = plt.figure()\n",
        "for i in range(6):\n",
        "  plt.subplot(2,3,i+1)\n",
        "  plt.tight_layout()\n",
        "  plt.imshow(np.transpose(example_data[i]), interpolation='none')\n",
        "  plt.title(f\"Label: {classes[example_targets[i]]}\")\n",
        "  plt.xticks([])\n",
        "  plt.yticks([])"
      ]
    },
    {
      "cell_type": "code",
      "execution_count": 9,
      "metadata": {
        "colab": {
          "base_uri": "https://localhost:8080/"
        },
        "id": "eykyQ7KI2mFR",
        "outputId": "a963ae34-d261-4504-da0a-30525bd59830"
      },
      "outputs": [
        {
          "output_type": "stream",
          "name": "stdout",
          "text": [
            "Using cuda device\n"
          ]
        }
      ],
      "source": [
        "# подключаем GPU\n",
        "device = \"cuda\" if torch.cuda.is_available() else \"cpu\"\n",
        "print(f\"Using {device} device\")"
      ]
    },
    {
      "cell_type": "markdown",
      "metadata": {
        "id": "ZnLmhLAa3P9p"
      },
      "source": [
        "***\n",
        "Построим полносвязную нейронную сеть - **многослойный перцептрон**"
      ]
    },
    {
      "cell_type": "code",
      "execution_count": 10,
      "metadata": {
        "id": "bfG-y4h63z5G"
      },
      "outputs": [],
      "source": [
        "from torch import nn"
      ]
    },
    {
      "cell_type": "code",
      "execution_count": 11,
      "metadata": {
        "colab": {
          "base_uri": "https://localhost:8080/"
        },
        "id": "HUqfRG2F37sl",
        "outputId": "ce751c2c-0aa3-4c42-cb94-c05738b05e12"
      },
      "outputs": [
        {
          "output_type": "stream",
          "name": "stdout",
          "text": [
            "NeuralNetwork(\n",
            "  (flatten): Flatten(start_dim=1, end_dim=-1)\n",
            "  (relu_mod): Sequential(\n",
            "    (0): Linear(in_features=3072, out_features=2000, bias=True)\n",
            "    (1): BatchNorm1d(2000, eps=1e-05, momentum=0.1, affine=True, track_running_stats=True)\n",
            "    (2): ReLU()\n",
            "    (3): Linear(in_features=2000, out_features=500, bias=True)\n",
            "    (4): BatchNorm1d(500, eps=1e-05, momentum=0.1, affine=True, track_running_stats=True)\n",
            "    (5): ReLU()\n",
            "    (6): Linear(in_features=500, out_features=10, bias=True)\n",
            "  )\n",
            ")\n"
          ]
        }
      ],
      "source": [
        "# Определяем архитектуру модели\n",
        "class NeuralNetwork(nn.Module):\n",
        "    def __init__(self):\n",
        "        super(NeuralNetwork, self).__init__()\n",
        "        self.flatten = nn.Flatten()\n",
        "        self.relu_mod = nn.Sequential(\n",
        "            nn.Linear(32*32*3, 2000),\n",
        "            nn.BatchNorm1d(2000), #бач-нормализация\n",
        "            nn.ReLU(),\n",
        "            nn.Linear(2000, 500),\n",
        "            nn.BatchNorm1d(500),\n",
        "            nn.ReLU(),\n",
        "            nn.Linear(500, 10))\n",
        "\n",
        "    def forward(self, x):\n",
        "        x = self.flatten(x)\n",
        "        logits = self.relu_mod(x)\n",
        "        return logits\n",
        "\n",
        "model = NeuralNetwork().to(device)\n",
        "print(model)"
      ]
    },
    {
      "cell_type": "code",
      "execution_count": 12,
      "metadata": {
        "id": "V_mRSGKt4XAq"
      },
      "outputs": [],
      "source": [
        "#задаем функцию потерь и оптимизацию градиента\n",
        "loss_fn = nn.CrossEntropyLoss()\n",
        "optimizer = torch.optim.Adam(model.parameters(), lr=0.1)"
      ]
    },
    {
      "cell_type": "code",
      "execution_count": 13,
      "metadata": {
        "id": "SYeT4lYZ4opP"
      },
      "outputs": [],
      "source": [
        "#функция для обучения\n",
        "def train(dataloader, model, loss_fn, optimizer):\n",
        "    size = len(dataloader.dataset)\n",
        "    model.train()\n",
        "    for batch, (X, y) in enumerate(dataloader):\n",
        "        X, y = X.to(device), y.to(device)\n",
        "\n",
        "        # Compute prediction error\n",
        "        pred = model(X)\n",
        "        loss = loss_fn(pred, y)\n",
        "\n",
        "        # Backpropagation\n",
        "        optimizer.zero_grad()\n",
        "        loss.backward()\n",
        "        optimizer.step()\n",
        "\n",
        "        if batch % 100 == 0:\n",
        "            loss, current = loss.item(), batch * len(X)\n",
        "            print(f\"loss: {loss:>7f}  [{current:>5d}/{size:>5d}]\")"
      ]
    },
    {
      "cell_type": "code",
      "execution_count": 14,
      "metadata": {
        "id": "LT9pGmyp42H3"
      },
      "outputs": [],
      "source": [
        "#функция для расчета точности на тесте\n",
        "def test(dataloader, model, loss_fn):\n",
        "    size = len(dataloader.dataset)\n",
        "    num_batches = len(dataloader)\n",
        "    model.eval()\n",
        "    test_loss, correct = 0, 0\n",
        "    with torch.no_grad():\n",
        "        for X, y in dataloader:\n",
        "            X, y = X.to(device), y.to(device)\n",
        "            pred = model(X)\n",
        "            test_loss += loss_fn(pred, y).item()\n",
        "            correct += (pred.argmax(1) == y).type(torch.float).sum().item()\n",
        "    test_loss /= num_batches\n",
        "    correct /= size\n",
        "    print(f\"Test Error: \\n Accuracy: {(100*correct):>0.1f}%, Avg loss: {test_loss:>8f} \\n\")"
      ]
    },
    {
      "cell_type": "code",
      "execution_count": 15,
      "metadata": {
        "colab": {
          "base_uri": "https://localhost:8080/"
        },
        "id": "HZ5pa-Mw5E2M",
        "outputId": "ec45160e-9655-4215-bd3f-c3c392af0506"
      },
      "outputs": [
        {
          "output_type": "stream",
          "name": "stdout",
          "text": [
            "Epoch 1\n",
            "-------------------------------\n",
            "loss: 2.354616  [    0/50000]\n",
            "loss: 1.878786  [ 6400/50000]\n",
            "loss: 1.546144  [12800/50000]\n",
            "loss: 1.881771  [19200/50000]\n",
            "loss: 1.792507  [25600/50000]\n",
            "loss: 1.717752  [32000/50000]\n",
            "loss: 1.808676  [38400/50000]\n",
            "loss: 1.702042  [44800/50000]\n",
            "Test Error: \n",
            " Accuracy: 39.0%, Avg loss: 1.669619 \n",
            "\n",
            "Epoch 2\n",
            "-------------------------------\n",
            "loss: 1.548227  [    0/50000]\n",
            "loss: 1.712911  [ 6400/50000]\n",
            "loss: 1.749369  [12800/50000]\n",
            "loss: 1.531419  [19200/50000]\n",
            "loss: 1.694378  [25600/50000]\n",
            "loss: 1.799280  [32000/50000]\n",
            "loss: 1.535402  [38400/50000]\n",
            "loss: 1.792462  [44800/50000]\n",
            "Test Error: \n",
            " Accuracy: 40.4%, Avg loss: 1.643772 \n",
            "\n",
            "Epoch 3\n",
            "-------------------------------\n",
            "loss: 1.661502  [    0/50000]\n",
            "loss: 1.745234  [ 6400/50000]\n",
            "loss: 1.281250  [12800/50000]\n",
            "loss: 1.481034  [19200/50000]\n",
            "loss: 1.599736  [25600/50000]\n",
            "loss: 1.761388  [32000/50000]\n",
            "loss: 1.480329  [38400/50000]\n",
            "loss: 1.622266  [44800/50000]\n",
            "Test Error: \n",
            " Accuracy: 44.4%, Avg loss: 1.573272 \n",
            "\n",
            "Epoch 4\n",
            "-------------------------------\n",
            "loss: 1.613014  [    0/50000]\n",
            "loss: 1.509426  [ 6400/50000]\n",
            "loss: 1.750403  [12800/50000]\n",
            "loss: 1.677079  [19200/50000]\n",
            "loss: 1.764965  [25600/50000]\n",
            "loss: 1.726648  [32000/50000]\n",
            "loss: 1.319833  [38400/50000]\n",
            "loss: 1.287987  [44800/50000]\n",
            "Test Error: \n",
            " Accuracy: 46.5%, Avg loss: 1.523217 \n",
            "\n",
            "Epoch 5\n",
            "-------------------------------\n",
            "loss: 1.451148  [    0/50000]\n",
            "loss: 1.688747  [ 6400/50000]\n",
            "loss: 1.376206  [12800/50000]\n",
            "loss: 1.439821  [19200/50000]\n",
            "loss: 1.554004  [25600/50000]\n",
            "loss: 1.639524  [32000/50000]\n",
            "loss: 1.396634  [38400/50000]\n",
            "loss: 1.392809  [44800/50000]\n",
            "Test Error: \n",
            " Accuracy: 45.9%, Avg loss: 1.507013 \n",
            "\n",
            "Epoch 6\n",
            "-------------------------------\n",
            "loss: 1.506855  [    0/50000]\n",
            "loss: 1.672628  [ 6400/50000]\n",
            "loss: 1.361840  [12800/50000]\n",
            "loss: 1.780084  [19200/50000]\n",
            "loss: 1.593761  [25600/50000]\n",
            "loss: 1.506758  [32000/50000]\n",
            "loss: 1.433822  [38400/50000]\n",
            "loss: 1.628006  [44800/50000]\n",
            "Test Error: \n",
            " Accuracy: 48.1%, Avg loss: 1.467121 \n",
            "\n",
            "Epoch 7\n",
            "-------------------------------\n",
            "loss: 1.489436  [    0/50000]\n",
            "loss: 1.229067  [ 6400/50000]\n",
            "loss: 1.601843  [12800/50000]\n",
            "loss: 1.490073  [19200/50000]\n",
            "loss: 1.458407  [25600/50000]\n",
            "loss: 1.568596  [32000/50000]\n",
            "loss: 1.346588  [38400/50000]\n",
            "loss: 1.554029  [44800/50000]\n",
            "Test Error: \n",
            " Accuracy: 45.5%, Avg loss: 1.542012 \n",
            "\n",
            "Epoch 8\n",
            "-------------------------------\n",
            "loss: 1.281503  [    0/50000]\n",
            "loss: 1.680778  [ 6400/50000]\n",
            "loss: 1.527182  [12800/50000]\n",
            "loss: 1.641328  [19200/50000]\n",
            "loss: 1.178926  [25600/50000]\n",
            "loss: 1.525816  [32000/50000]\n",
            "loss: 1.528587  [38400/50000]\n",
            "loss: 1.322826  [44800/50000]\n",
            "Test Error: \n",
            " Accuracy: 49.8%, Avg loss: 1.425108 \n",
            "\n",
            "Epoch 9\n",
            "-------------------------------\n",
            "loss: 1.342844  [    0/50000]\n",
            "loss: 1.354126  [ 6400/50000]\n",
            "loss: 1.247922  [12800/50000]\n",
            "loss: 1.373441  [19200/50000]\n",
            "loss: 1.504722  [25600/50000]\n",
            "loss: 1.415655  [32000/50000]\n",
            "loss: 1.661937  [38400/50000]\n",
            "loss: 1.431914  [44800/50000]\n",
            "Test Error: \n",
            " Accuracy: 50.2%, Avg loss: 1.407641 \n",
            "\n",
            "Epoch 10\n",
            "-------------------------------\n",
            "loss: 1.374571  [    0/50000]\n",
            "loss: 1.324051  [ 6400/50000]\n",
            "loss: 1.360959  [12800/50000]\n",
            "loss: 1.275699  [19200/50000]\n",
            "loss: 1.492271  [25600/50000]\n",
            "loss: 1.442747  [32000/50000]\n",
            "loss: 1.439818  [38400/50000]\n",
            "loss: 1.432893  [44800/50000]\n",
            "Test Error: \n",
            " Accuracy: 49.9%, Avg loss: 1.414029 \n",
            "\n",
            "Done!\n"
          ]
        }
      ],
      "source": [
        "#инизиализация модели\n",
        "epochs = 10\n",
        "for t in range(epochs):\n",
        "    print(f\"Epoch {t+1}\\n-------------------------------\")\n",
        "    train(train_loader, model, loss_fn, optimizer)\n",
        "    test(test_loader, model, loss_fn)\n",
        "print(\"Done!\")"
      ]
    },
    {
      "cell_type": "markdown",
      "metadata": {
        "id": "tkBSEmxB7gHW"
      },
      "source": [
        "Точность модели оказалась примерно **50%**\n",
        "***\n",
        "Посмотрим как справится **свёрточная нейронная сеть**"
      ]
    },
    {
      "cell_type": "code",
      "execution_count": 15,
      "metadata": {
        "id": "lwBrJmN37q2q"
      },
      "outputs": [],
      "source": [
        "# Создаем класс сверточной нейронной сети\n",
        "class CNN(nn.Module):\n",
        "    def __init__(self):\n",
        "        super().__init__()\n",
        "        self.cnn1 = nn.Sequential(            \n",
        "          # Блок 1: Свёртка с большим ядром, чтобы уловить общие закономерности\n",
        "          nn.Conv2d(3, 16, kernel_size=5, padding=2),\n",
        "          # Важно! Батч-нормализация всегда идёт до функции активации!\n",
        "          nn.BatchNorm2d(16),\n",
        "          nn.MaxPool2d(2),\n",
        "          nn.Dropout(0.2),\n",
        "\n",
        "          # Блок 2: Свёртка с ядром поменьше, выделяет более тонкие признаки.\n",
        "          nn.Conv2d(16, 32, kernel_size=3, padding=1),\n",
        "          nn.BatchNorm2d(32),\n",
        "          nn.MaxPool2d(2),\n",
        "          # Важно! Дропаут идёт после функции активации!\n",
        "          nn.Dropout(0.2))\n",
        "        \n",
        "        self.classifier = nn.Sequential(\n",
        "          # Блок 3: Линейный слой поверх карт активации\n",
        "          nn.Linear(2048, 512),\n",
        "          nn.BatchNorm1d(512),\n",
        "          nn.ReLU(),\n",
        "          nn.Dropout(0.2),\n",
        "\n",
        "          # Блок 4: Классификационный слой\n",
        "          nn.Linear(512, 10)\n",
        "        )\n",
        "        \n",
        "    def forward(self, x):\n",
        "        x = self.cnn1(x)\n",
        "        x = torch.flatten(x, 1)\n",
        "        x = self.classifier(x)\n",
        "        return x\n",
        "\n",
        "# Переносим CNN на device\n",
        "model = CNN().to(device)"
      ]
    },
    {
      "cell_type": "code",
      "execution_count": 16,
      "metadata": {
        "id": "7Af-xiFI8F48"
      },
      "outputs": [],
      "source": [
        "#функция для отрисовки графика обучения\n",
        "def plot_learning_curves(history):\n",
        "    '''\n",
        "    Функция для обучения модели и вывода лосса и метрики во время обучения.\n",
        "\n",
        "    :param history: (dict)\n",
        "        accuracy и loss на обучении и валидации\n",
        "    '''\n",
        "    fig = plt.figure(figsize=(20, 7))\n",
        "\n",
        "    plt.subplot(1,2,1)\n",
        "    plt.title('Лосс', fontsize=15)\n",
        "    plt.plot(history['loss']['train'], label='train')\n",
        "    plt.plot(history['loss']['val'], label='val')\n",
        "    plt.ylabel('лосс', fontsize=15)\n",
        "    plt.xlabel('эпоха', fontsize=15)\n",
        "    plt.legend()\n",
        "\n",
        "    plt.subplot(1,2,2)\n",
        "    plt.title('Точность', fontsize=15)\n",
        "    plt.plot(history['acc']['train'], label='train')\n",
        "    plt.plot(history['acc']['val'], label='val')\n",
        "    plt.ylabel('лосс', fontsize=15)\n",
        "    plt.xlabel('эпоха', fontsize=15)\n",
        "    plt.legend()\n",
        "    plt.show()"
      ]
    },
    {
      "cell_type": "code",
      "execution_count": 17,
      "metadata": {
        "id": "9-z0a4cz8T56"
      },
      "outputs": [],
      "source": [
        "#Функция для обучения\n",
        "from collections import defaultdict\n",
        "import time\n",
        "from IPython.display import clear_output\n",
        "\n",
        "\n",
        "def train(\n",
        "    model, \n",
        "    criterion,\n",
        "    optimizer, \n",
        "    train_batch_gen,\n",
        "    val_batch_gen,\n",
        "    num_epochs=30\n",
        "):\n",
        "    '''\n",
        "    Функция для обучения модели и вывода лосса и метрики во время обучения.\n",
        "\n",
        "    :param model: обучаемая модель\n",
        "    :param criterion: функция потерь\n",
        "    :param optimizer: метод оптимизации\n",
        "    :param train_batch_gen: генератор батчей для обучения\n",
        "    :param val_batch_gen: генератор батчей для валидации\n",
        "    :param num_epochs: количество эпох\n",
        "\n",
        "    :return: обученная модель\n",
        "    :return: (dict) accuracy и loss на обучении и валидации (\"история\" обучения)\n",
        "    '''\n",
        "\n",
        "    history = defaultdict(lambda: defaultdict(list))\n",
        "\n",
        "    for epoch in range(num_epochs):\n",
        "        train_loss = 0\n",
        "        train_acc = 0\n",
        "        val_loss = 0\n",
        "        val_acc = 0\n",
        "        \n",
        "        start_time = time.time()\n",
        "\n",
        "        # Устанавливаем поведение dropout / batch_norm  в обучение\n",
        "        model.train(True) \n",
        "\n",
        "        # На каждой \"эпохе\" делаем полный проход по данным\n",
        "        for X_batch, y_batch in train_batch_gen:\n",
        "            # Обучаемся на батче (одна \"итерация\" обучения нейросети)\n",
        "            X_batch = X_batch.to(device)\n",
        "            y_batch = y_batch.to(device)\n",
        "            \n",
        "            logits = model(X_batch)\n",
        "            \n",
        "            loss = criterion(logits, y_batch.long().to(device))\n",
        "\n",
        "            loss.backward()\n",
        "            optimizer.step()\n",
        "            optimizer.zero_grad()\n",
        "            \n",
        "            train_loss += np.sum(loss.detach().cpu().numpy())\n",
        "            y_pred = logits.max(1)[1].detach().cpu().numpy()\n",
        "            train_acc += np.mean(y_batch.cpu().numpy() == y_pred)\n",
        "\n",
        "        # Подсчитываем лоссы и сохраням в \"историю\"\n",
        "        train_loss /= len(train_batch_gen)\n",
        "        train_acc /= len(train_batch_gen) \n",
        "        history['loss']['train'].append(train_loss)\n",
        "        history['acc']['train'].append(train_acc)\n",
        "    \n",
        "        # Устанавливаем поведение dropout / batch_norm в режим тестирования\n",
        "        model.train(False)\n",
        "\n",
        "        # Полный проход по валидации    \n",
        "        for X_batch, y_batch in val_batch_gen:\n",
        "            X_batch = X_batch.to(device)\n",
        "            y_batch = y_batch.to(device)\n",
        "            \n",
        "            # Так как это не обучающие батчи, градиент не нужен\n",
        "            with torch.no_grad():\n",
        "                logits = model(X_batch)\n",
        "                \n",
        "            loss = criterion(logits, y_batch.long().to(device))\n",
        "            val_loss += np.sum(loss.detach().cpu().numpy())\n",
        "            y_pred = logits.max(1)[1].detach().cpu().numpy()\n",
        "            val_acc += np.mean(y_batch.cpu().numpy() == y_pred)\n",
        "\n",
        "        # Подсчитываем лоссы и сохраням в \"историю\"\n",
        "        val_loss /= len(val_batch_gen)\n",
        "        val_acc /= len(val_batch_gen) \n",
        "        history['loss']['val'].append(val_loss)\n",
        "        history['acc']['val'].append(val_acc)\n",
        "        \n",
        "        clear_output()\n",
        "\n",
        "        # Печатаем результаты после каждой эпохи\n",
        "        print(\"Epoch {} of {} took {:.3f}s\".format(\n",
        "            epoch + 1, num_epochs, time.time() - start_time))\n",
        "        print(\"  training loss (in-iteration): \\t{:.6f}\".format(train_loss))\n",
        "        print(\"  validation loss (in-iteration): \\t{:.6f}\".format(val_loss))\n",
        "        print(\"  training accuracy: \\t\\t\\t{:.2f} %\".format(train_acc * 100))\n",
        "        print(\"  validation accuracy: \\t\\t\\t{:.2f} %\".format(val_acc * 100))\n",
        "        \n",
        "        plot_learning_curves(history)\n",
        "        \n",
        "    return model, history"
      ]
    },
    {
      "cell_type": "code",
      "execution_count": 19,
      "metadata": {
        "colab": {
          "base_uri": "https://localhost:8080/",
          "height": 431
        },
        "id": "tFzsMuZh8ht4",
        "outputId": "5e371aea-99f1-40ce-8a89-4ee37bdfbc3d"
      },
      "outputs": [
        {
          "output_type": "stream",
          "name": "stdout",
          "text": [
            "Epoch 30 of 30 took 78.473s\n",
            "  training loss (in-iteration): \t0.775976\n",
            "  validation loss (in-iteration): \t0.766462\n",
            "  training accuracy: \t\t\t73.03 %\n",
            "  validation accuracy: \t\t\t75.23 %\n"
          ]
        },
        {
          "output_type": "display_data",
          "data": {
            "text/plain": [
              "<Figure size 1440x504 with 2 Axes>"
            ],
            "image/png": "[encoded data removed]"
          },
          "metadata": {
            "needs_background": "light"
          }
        }
      ],
      "source": [
        "#функция потерь и оптимизация градиента:\n",
        "criterion = nn.CrossEntropyLoss()\n",
        "optimizer = torch.optim.Adam(model.parameters(), lr=0.01)\n",
        "\n",
        "# Обучим модель\n",
        "model, history = train(\n",
        "    model, criterion, optimizer,\n",
        "    train_loader, test_loader,\n",
        "    num_epochs=30)"
      ]
    },
    {
      "cell_type": "markdown",
      "metadata": {
        "id": "wta0DHW6-XJf"
      },
      "source": [
        "ВЫВОД: точность **свёрточной нейронной сети** оказалась выше - **75%**\n",
        "\n",
        "***\n",
        "\n",
        "**TransferLearning:** проверим предобученную нейронную сеть **VGG11**"
      ]
    },
    {
      "cell_type": "code",
      "execution_count": 18,
      "metadata": {
        "colab": {
          "base_uri": "https://localhost:8080/",
          "height": 902,
          "referenced_widgets": [
            "f925d4f425be4db9aa90dcdf514d4073",
            "cea564885c8a42a69f5aaecbc4d1a128",
            "9c294ff540ab437887dad342f9122f16",
            "a0b3d3845ee3475ebe1dbfb802abb73b",
            "180f2bee79a3450f924475de4c0b8c4e",
            "ea269921fc514cbd998c49cefa10c760",
            "3b85e8e2d3414f69a22d2606d2157a4d",
            "f49632bc312c45539fe7128b4874299e",
            "6ca34361d5ed4ec9936ffcd18d5b9462",
            "5adb7aad81d54db5ad07fa5caa0fc5db",
            "fcb319c63e1b4c628928c1d6906df1b5"
          ]
        },
        "id": "p8oA0_Jq-pH7",
        "outputId": "8a214879-6f28-4298-8b6a-6a26319e1b24"
      },
      "outputs": [
        {
          "output_type": "stream",
          "name": "stderr",
          "text": [
            "/usr/local/lib/python3.8/dist-packages/torchvision/models/_utils.py:208: UserWarning: The parameter 'pretrained' is deprecated since 0.13 and may be removed in the future, please use 'weights' instead.\n",
            "  warnings.warn(\n",
            "/usr/local/lib/python3.8/dist-packages/torchvision/models/_utils.py:223: UserWarning: Arguments other than a weight enum or `None` for 'weights' are deprecated since 0.13 and may be removed in the future. The current behavior is equivalent to passing `weights=VGG11_BN_Weights.IMAGENET1K_V1`. You can also use `weights=VGG11_BN_Weights.DEFAULT` to get the most up-to-date weights.\n",
            "  warnings.warn(msg)\n",
            "Downloading: \"https://download.pytorch.org/models/vgg11_bn-6002323d.pth\" to /root/.cache/torch/hub/checkpoints/vgg11_bn-6002323d.pth\n"
          ]
        },
        {
          "output_type": "display_data",
          "data": {
            "text/plain": [
              "  0%|          | 0.00/507M [00:00<?, ?B/s]"
            ],
            "application/vnd.jupyter.widget-view+json": {
              "version_major": 2,
              "version_minor": 0,
              "model_id": "f925d4f425be4db9aa90dcdf514d4073"
            }
          },
          "metadata": {}
        },
        {
          "output_type": "stream",
          "name": "stdout",
          "text": [
            "VGG(\n",
            "  (features): Sequential(\n",
            "    (0): Conv2d(3, 64, kernel_size=(3, 3), stride=(1, 1), padding=(1, 1))\n",
            "    (1): BatchNorm2d(64, eps=1e-05, momentum=0.1, affine=True, track_running_stats=True)\n",
            "    (2): ReLU(inplace=True)\n",
            "    (3): MaxPool2d(kernel_size=2, stride=2, padding=0, dilation=1, ceil_mode=False)\n",
            "    (4): Conv2d(64, 128, kernel_size=(3, 3), stride=(1, 1), padding=(1, 1))\n",
            "    (5): BatchNorm2d(128, eps=1e-05, momentum=0.1, affine=True, track_running_stats=True)\n",
            "    (6): ReLU(inplace=True)\n",
            "    (7): MaxPool2d(kernel_size=2, stride=2, padding=0, dilation=1, ceil_mode=False)\n",
            "    (8): Conv2d(128, 256, kernel_size=(3, 3), stride=(1, 1), padding=(1, 1))\n",
            "    (9): BatchNorm2d(256, eps=1e-05, momentum=0.1, affine=True, track_running_stats=True)\n",
            "    (10): ReLU(inplace=True)\n",
            "    (11): Conv2d(256, 256, kernel_size=(3, 3), stride=(1, 1), padding=(1, 1))\n",
            "    (12): BatchNorm2d(256, eps=1e-05, momentum=0.1, affine=True, track_running_stats=True)\n",
            "    (13): ReLU(inplace=True)\n",
            "    (14): MaxPool2d(kernel_size=2, stride=2, padding=0, dilation=1, ceil_mode=False)\n",
            "    (15): Conv2d(256, 512, kernel_size=(3, 3), stride=(1, 1), padding=(1, 1))\n",
            "    (16): BatchNorm2d(512, eps=1e-05, momentum=0.1, affine=True, track_running_stats=True)\n",
            "    (17): ReLU(inplace=True)\n",
            "    (18): Conv2d(512, 512, kernel_size=(3, 3), stride=(1, 1), padding=(1, 1))\n",
            "    (19): BatchNorm2d(512, eps=1e-05, momentum=0.1, affine=True, track_running_stats=True)\n",
            "    (20): ReLU(inplace=True)\n",
            "    (21): MaxPool2d(kernel_size=2, stride=2, padding=0, dilation=1, ceil_mode=False)\n",
            "    (22): Conv2d(512, 512, kernel_size=(3, 3), stride=(1, 1), padding=(1, 1))\n",
            "    (23): BatchNorm2d(512, eps=1e-05, momentum=0.1, affine=True, track_running_stats=True)\n",
            "    (24): ReLU(inplace=True)\n",
            "    (25): Conv2d(512, 512, kernel_size=(3, 3), stride=(1, 1), padding=(1, 1))\n",
            "    (26): BatchNorm2d(512, eps=1e-05, momentum=0.1, affine=True, track_running_stats=True)\n",
            "    (27): ReLU(inplace=True)\n",
            "    (28): MaxPool2d(kernel_size=2, stride=2, padding=0, dilation=1, ceil_mode=False)\n",
            "  )\n",
            "  (avgpool): AdaptiveAvgPool2d(output_size=(7, 7))\n",
            "  (classifier): Sequential(\n",
            "    (0): Linear(in_features=25088, out_features=4096, bias=True)\n",
            "    (1): ReLU(inplace=True)\n",
            "    (2): Dropout(p=0.5, inplace=False)\n",
            "    (3): Linear(in_features=4096, out_features=4096, bias=True)\n",
            "    (4): ReLU(inplace=True)\n",
            "    (5): Dropout(p=0.5, inplace=False)\n",
            "    (6): Linear(in_features=4096, out_features=1000, bias=True)\n",
            "  )\n",
            ")\n"
          ]
        }
      ],
      "source": [
        "import torchvision.models as models\n",
        "\n",
        "# Загрузим предобученную модель и посмотрим на нее\n",
        "model_vgg = models.vgg11_bn(pretrained=True)\n",
        "\n",
        "print(model_vgg)"
      ]
    },
    {
      "cell_type": "code",
      "execution_count": 19,
      "metadata": {
        "id": "lIkcqPq22W4i"
      },
      "outputs": [],
      "source": [
        "# Фиксируем значение градиента на каждом слое, кроме последнего\n",
        "for p in model_vgg.parameters():\n",
        "    p.requires_grad = False\n",
        "# меняем в последнем слое количество классов на 10\n",
        "in_features = model_vgg.classifier[-1].in_features\n",
        "\n",
        "from torchvision import transforms\n",
        "\n",
        "model_vgg.classifier[-1] = nn.Linear(in_features, 10) \n",
        "\n",
        "# помещаем модель в ГПУ\n",
        "model_vgg = model_vgg.to(device)"
      ]
    },
    {
      "cell_type": "code",
      "execution_count": 20,
      "metadata": {
        "colab": {
          "base_uri": "https://localhost:8080/",
          "height": 431
        },
        "id": "EWcPQe6NEkHV",
        "outputId": "625d8132-565a-4678-b146-3951625c4461"
      },
      "outputs": [
        {
          "output_type": "stream",
          "name": "stdout",
          "text": [
            "Epoch 10 of 10 took 27.787s\n",
            "  training loss (in-iteration): \t1.585303\n",
            "  validation loss (in-iteration): \t1.368741\n",
            "  training accuracy: \t\t\t44.89 %\n",
            "  validation accuracy: \t\t\t53.27 %\n"
          ]
        },
        {
          "output_type": "display_data",
          "data": {
            "text/plain": [
              "<Figure size 1440x504 with 2 Axes>"
            ],
            "image/png": "[encoded data removed]"
          },
          "metadata": {
            "needs_background": "light"
          }
        }
      ],
      "source": [
        "# Обучаем сеть\n",
        "\n",
        "criterion = nn.CrossEntropyLoss()\n",
        "optimizer = torch.optim.SGD(model_vgg.classifier[-1].parameters(), lr=1e-3)\n",
        "\n",
        "model, history = train(\n",
        "    model_vgg, criterion, optimizer,\n",
        "    train_loader, test_loader,\n",
        "    num_epochs=10)"
      ]
    },
    {
      "cell_type": "markdown",
      "metadata": {
        "id": "yCL1SnK9K1NU"
      },
      "source": [
        "ВЫВОД: Точность предобученной модели vgg11 составила **55%**\n",
        "***\n",
        "**TransferLearning2:** Предобученная модель **ResNet152**"
      ]
    },
    {
      "cell_type": "code",
      "execution_count": 21,
      "metadata": {
        "colab": {
          "base_uri": "https://localhost:8080/",
          "height": 121,
          "referenced_widgets": [
            "00ecb522347e4984affd5c4a4937d32d",
            "63911ade52464c1fb789fc266dcceca5",
            "cb3842e05f9a42a3bf40b2a9e8f62f22",
            "9bb0a628624d453686c66a854ab3937c",
            "3fb785c6825541b5aaf0099ee923d325",
            "ed7d7665c985433c80fd221635d09a49",
            "9b8913f99db44c9d924457bd4858d145",
            "1e1de8a19e6d4dd795fef6a89aab247a",
            "874076274ff8483190474849d3ce16e2",
            "b1ac914ab95441ff8e5637b4268c19b1",
            "6ccb1ed8fd5f4d43b379065d1aecf1bb"
          ]
        },
        "id": "yQw8nestK5pJ",
        "outputId": "d0d23387-df18-4216-f3aa-95d797c98f1d"
      },
      "outputs": [
        {
          "output_type": "stream",
          "name": "stderr",
          "text": [
            "/usr/local/lib/python3.8/dist-packages/torchvision/models/_utils.py:223: UserWarning: Arguments other than a weight enum or `None` for 'weights' are deprecated since 0.13 and may be removed in the future. The current behavior is equivalent to passing `weights=ResNet152_Weights.IMAGENET1K_V1`. You can also use `weights=ResNet152_Weights.DEFAULT` to get the most up-to-date weights.\n",
            "  warnings.warn(msg)\n",
            "Downloading: \"https://download.pytorch.org/models/resnet152-394f9c45.pth\" to /root/.cache/torch/hub/checkpoints/resnet152-394f9c45.pth\n"
          ]
        },
        {
          "output_type": "display_data",
          "data": {
            "text/plain": [
              "  0%|          | 0.00/230M [00:00<?, ?B/s]"
            ],
            "application/vnd.jupyter.widget-view+json": {
              "version_major": 2,
              "version_minor": 0,
              "model_id": "00ecb522347e4984affd5c4a4937d32d"
            }
          },
          "metadata": {}
        }
      ],
      "source": [
        "import torchvision.models as models\n",
        "# Load pre-trained model\n",
        "model_resnet152 = torchvision.models.resnet152(pretrained=True)"
      ]
    },
    {
      "cell_type": "code",
      "execution_count": 22,
      "metadata": {
        "id": "Ga4x6O7rMkJE"
      },
      "outputs": [],
      "source": [
        "# Фиксируем значение градиента на каждом слое, кроме последнего\n",
        "for p in model_resnet152.parameters():\n",
        "    p.requires_grad = False\n",
        "# меняем в последнем слое количество классов на 10\n",
        "in_features = model_resnet152.fc.in_features\n",
        "\n",
        "model_resnet152.fc = nn.Linear(in_features, 10) \n",
        "\n",
        "# помещаем модель в ГПУ\n",
        "model_resnet152 = model_resnet152.to(device)"
      ]
    },
    {
      "cell_type": "code",
      "execution_count": 23,
      "metadata": {
        "colab": {
          "base_uri": "https://localhost:8080/",
          "height": 432
        },
        "id": "NMoPfynnNhrv",
        "outputId": "29765b6c-f858-4ffb-e8d0-6ab1cbf4d23a"
      },
      "outputs": [
        {
          "output_type": "stream",
          "name": "stdout",
          "text": [
            "Epoch 10 of 10 took 41.596s\n",
            "  training loss (in-iteration): \t1.639537\n",
            "  validation loss (in-iteration): \t26.329848\n",
            "  training accuracy: \t\t\t43.04 %\n",
            "  validation accuracy: \t\t\t41.03 %\n"
          ]
        },
        {
          "output_type": "display_data",
          "data": {
            "text/plain": [
              "<Figure size 1440x504 with 2 Axes>"
            ],
            "image/png": "[encoded data removed]"
          },
          "metadata": {
            "needs_background": "light"
          }
        }
      ],
      "source": [
        "#задаем функцию потерь, оптимизацию градиента в последнем слое и обучаем модель\n",
        "criterion = nn.CrossEntropyLoss()\n",
        "optimizer = torch.optim.SGD(model_resnet152.fc.parameters(), lr=1e-3)\n",
        "\n",
        "model_resnet152, history = train(\n",
        "    model_resnet152, criterion, optimizer,\n",
        "    train_loader, test_loader,\n",
        "    num_epochs=10)"
      ]
    },
    {
      "cell_type": "markdown",
      "source": [
        "**ВЫВОД:** точность предобученной модели **ResNet152** составила **50%**\n",
        "***\n",
        "Применение предобученной сети **EfficientNet** (не TransferLearning, а именно готовая сеть для классификации изображений)"
      ],
      "metadata": {
        "id": "QjhbHWRFvZc8"
      }
    },
    {
      "cell_type": "code",
      "source": [
        "# Установим библиотеку для EfficientNet PyTorch\n",
        "!pip install efficientnet_pytorch"
      ],
      "metadata": {
        "colab": {
          "base_uri": "https://localhost:8080/"
        },
        "id": "GMBji3Agz9IY",
        "outputId": "e35e9714-915b-46ba-8e68-0b3b902daae9"
      },
      "execution_count": 12,
      "outputs": [
        {
          "output_type": "stream",
          "name": "stdout",
          "text": [
            "Looking in indexes: https://pypi.org/simple, https://us-python.pkg.dev/colab-wheels/public/simple/\n",
            "Collecting efficientnet_pytorch\n",
            "  Downloading efficientnet_pytorch-0.7.1.tar.gz (21 kB)\n",
            "Requirement already satisfied: torch in /usr/local/lib/python3.8/dist-packages (from efficientnet_pytorch) (1.13.0+cu116)\n",
            "Requirement already satisfied: typing-extensions in /usr/local/lib/python3.8/dist-packages (from torch->efficientnet_pytorch) (4.4.0)\n",
            "Building wheels for collected packages: efficientnet-pytorch\n",
            "  Building wheel for efficientnet-pytorch (setup.py) ... \u001b[?25l\u001b[?25hdone\n",
            "  Created wheel for efficientnet-pytorch: filename=efficientnet_pytorch-0.7.1-py3-none-any.whl size=16446 sha256=4f6e58c38fc69434db9c5962d047224d67ba4fc9fc71fc9d7ee743e467ff057f\n",
            "  Stored in directory: /root/.cache/pip/wheels/84/b9/90/25a0195cf95fb5533db96f1c77ea3f296b7cc86ae8ae48e3dc\n",
            "Successfully built efficientnet-pytorch\n",
            "Installing collected packages: efficientnet-pytorch\n",
            "Successfully installed efficientnet-pytorch-0.7.1\n"
          ]
        }
      ]
    },
    {
      "cell_type": "code",
      "source": [
        "from efficientnet_pytorch import EfficientNet"
      ],
      "metadata": {
        "id": "XzgPNvemvlfZ"
      },
      "execution_count": 13,
      "outputs": []
    },
    {
      "cell_type": "code",
      "source": [
        "# Выберем одну из разновидносетй посмотрим размер входного изображения\n",
        "model_name = 'efficientnet-b0'\n",
        "image_size = EfficientNet.get_image_size(model_name)\n",
        "\n",
        "image_size"
      ],
      "metadata": {
        "colab": {
          "base_uri": "https://localhost:8080/"
        },
        "id": "3xxmHhUM0U0d",
        "outputId": "06136e10-28b5-48d9-fe8f-2e737462daff"
      },
      "execution_count": 14,
      "outputs": [
        {
          "output_type": "execute_result",
          "data": {
            "text/plain": [
              "224"
            ]
          },
          "metadata": {},
          "execution_count": 14
        }
      ]
    },
    {
      "cell_type": "code",
      "source": [
        "# Загрузим названия классов\n",
        "import json\n",
        "from urllib.request import urlopen\n",
        "\n",
        "data_url = \"https://raw.githubusercontent.com/lukemelas/EfficientNet-PyTorch/master/examples/simple/labels_map.txt\"\n",
        "\n",
        "labels_map = json.load(urlopen(data_url))\n",
        "labels_map = [labels_map[str(i)] for i in range(1000)]\n",
        "\n",
        "print(\"Num classes:\", len(labels_map))\n",
        "labels_map[:5]"
      ],
      "metadata": {
        "colab": {
          "base_uri": "https://localhost:8080/"
        },
        "id": "inzW9PloBD24",
        "outputId": "2be4f912-3ad4-4438-a58b-960f454bf24a"
      },
      "execution_count": 15,
      "outputs": [
        {
          "output_type": "stream",
          "name": "stdout",
          "text": [
            "Num classes: 1000\n"
          ]
        },
        {
          "output_type": "execute_result",
          "data": {
            "text/plain": [
              "['tench, Tinca tinca',\n",
              " 'goldfish, Carassius auratus',\n",
              " 'great white shark, white shark, man-eater, man-eating shark, Carcharodon carcharias',\n",
              " 'tiger shark, Galeocerdo cuvieri',\n",
              " 'hammerhead, hammerhead shark']"
            ]
          },
          "metadata": {},
          "execution_count": 15
        }
      ]
    },
    {
      "cell_type": "code",
      "source": [
        "# Применим сеть к загруженной картинке\n",
        "import time\n",
        "\n",
        "model = EfficientNet.from_pretrained(model_name)\n",
        "model.eval()\n",
        "model.to(device)\n",
        "\n",
        "start = time.time()\n",
        "with torch.no_grad():\n",
        "  for batch, (X, y) in enumerate(train_loader):\n",
        "        X, y = X.to(device), y.to(device)\n",
        "  logits = model(X)\n",
        "  preds = torch.topk(logits, k=5).indices.squeeze(0).tolist()\n",
        "print(\"testing time: \", time.time() - start, \" seconds\")\n",
        "\n",
        "print('----------------------------------------------------------------------------------')\n",
        "for idx in preds:\n",
        "  for j in range(0,len(idx)):  \n",
        "    label = labels_map[idx[j]]\n",
        "    prob = torch.softmax(logits, dim=1)[0, idx[j]].item()\n",
        "    print('{:<75} ({:.2f}%)'.format(label, prob*100))"
      ],
      "metadata": {
        "colab": {
          "base_uri": "https://localhost:8080/"
        },
        "id": "fBJ6nfS2AQVI",
        "outputId": "c01a7228-2fbc-4eef-b39a-43896623d121"
      },
      "execution_count": 23,
      "outputs": [
        {
          "output_type": "stream",
          "name": "stdout",
          "text": [
            "Loaded pretrained weights for efficientnet-b0\n",
            "testing time:  6.225421190261841  seconds\n",
            "----------------------------------------------------------------------------------\n",
            "slide rule, slipstick                                                       (0.61%)\n",
            "maze, labyrinth                                                             (0.52%)\n",
            "photocopier                                                                 (0.49%)\n",
            "tiger beetle                                                                (0.47%)\n",
            "Arabian camel, dromedary, Camelus dromedarius                               (0.39%)\n",
            "medicine chest, medicine cabinet                                            (0.23%)\n",
            "dung beetle                                                                 (0.25%)\n",
            "dishrag, dishcloth                                                          (0.11%)\n",
            "echidna, spiny anteater, anteater                                           (0.11%)\n",
            "walking stick, walkingstick, stick insect                                   (0.18%)\n",
            "tiger beetle                                                                (0.47%)\n",
            "stone wall                                                                  (0.28%)\n",
            "maze, labyrinth                                                             (0.52%)\n",
            "velvet                                                                      (0.30%)\n",
            "crossword puzzle, crossword                                                 (0.28%)\n",
            "stone wall                                                                  (0.28%)\n",
            "cliff dwelling                                                              (0.24%)\n",
            "Indian cobra, Naja naja                                                     (0.18%)\n",
            "castle                                                                      (0.28%)\n",
            "cliff, drop, drop-off                                                       (0.28%)\n",
            "prairie chicken, prairie grouse, prairie fowl                               (0.06%)\n",
            "bee eater                                                                   (0.20%)\n",
            "black grouse                                                                (0.03%)\n",
            "dung beetle                                                                 (0.25%)\n",
            "agama                                                                       (0.10%)\n",
            "cliff dwelling                                                              (0.24%)\n",
            "cliff, drop, drop-off                                                       (0.28%)\n",
            "photocopier                                                                 (0.49%)\n",
            "monastery                                                                   (0.22%)\n",
            "obelisk                                                                     (0.30%)\n",
            "obelisk                                                                     (0.30%)\n",
            "pop bottle, soda bottle                                                     (0.14%)\n",
            "bolo tie, bolo, bola tie, bola                                              (0.08%)\n",
            "thimble                                                                     (0.09%)\n",
            "dishwasher, dish washer, dishwashing machine                                (0.16%)\n",
            "medicine chest, medicine cabinet                                            (0.23%)\n",
            "prayer rug, prayer mat                                                      (0.15%)\n",
            "bookcase                                                                    (0.06%)\n",
            "wall clock                                                                  (0.22%)\n",
            "envelope                                                                    (0.08%)\n",
            "trimaran                                                                    (0.18%)\n",
            "cliff dwelling                                                              (0.24%)\n",
            "tiger beetle                                                                (0.47%)\n",
            "honeycomb                                                                   (0.13%)\n",
            "stone wall                                                                  (0.28%)\n",
            "nematode, nematode worm, roundworm                                          (0.11%)\n",
            "soap dispenser                                                              (0.16%)\n",
            "letter opener, paper knife, paperknife                                      (0.04%)\n",
            "wall clock                                                                  (0.22%)\n",
            "switch, electric switch, electrical switch                                  (0.20%)\n",
            "Indian cobra, Naja naja                                                     (0.18%)\n",
            "cliff dwelling                                                              (0.24%)\n",
            "tiger beetle                                                                (0.47%)\n",
            "agama                                                                       (0.10%)\n",
            "cliff, drop, drop-off                                                       (0.28%)\n",
            "wall clock                                                                  (0.22%)\n",
            "file, file cabinet, filing cabinet                                          (0.27%)\n",
            "nematode, nematode worm, roundworm                                          (0.11%)\n",
            "dishwasher, dish washer, dishwashing machine                                (0.16%)\n",
            "soap dispenser                                                              (0.16%)\n",
            "cliff, drop, drop-off                                                       (0.28%)\n",
            "medicine chest, medicine cabinet                                            (0.23%)\n",
            "file, file cabinet, filing cabinet                                          (0.27%)\n",
            "photocopier                                                                 (0.49%)\n",
            "iPod                                                                        (0.22%)\n",
            "Indian cobra, Naja naja                                                     (0.18%)\n",
            "cliff dwelling                                                              (0.24%)\n",
            "Arabian camel, dromedary, Camelus dromedarius                               (0.39%)\n",
            "mantis, mantid                                                              (0.22%)\n",
            "tiger beetle                                                                (0.47%)\n",
            "slide rule, slipstick                                                       (0.61%)\n",
            "medicine chest, medicine cabinet                                            (0.23%)\n",
            "rule, ruler                                                                 (0.23%)\n",
            "file, file cabinet, filing cabinet                                          (0.27%)\n",
            "crossword puzzle, crossword                                                 (0.28%)\n",
            "Indian cobra, Naja naja                                                     (0.18%)\n",
            "tiger beetle                                                                (0.47%)\n",
            "cliff dwelling                                                              (0.24%)\n",
            "monastery                                                                   (0.22%)\n",
            "scabbard                                                                    (0.10%)\n"
          ]
        }
      ]
    },
    {
      "cell_type": "code",
      "source": [
        "fig = plt.figure()\n",
        "for i in range(6):\n",
        "  plt.subplot(2,3,i+1)\n",
        "  plt.tight_layout()\n",
        "  plt.imshow(np.transpose(X[i]), interpolation='none')\n",
        "  plt.title(f\"Label: {classes[y[i]]}\")\n",
        "  plt.xticks([])\n",
        "  plt.yticks([])"
      ],
      "metadata": {
        "colab": {
          "base_uri": "https://localhost:8080/",
          "height": 689
        },
        "id": "aZvhUKbwUgvW",
        "outputId": "d4bfb367-1186-4116-8a45-6e4393deac29"
      },
      "execution_count": 30,
      "outputs": [
        {
          "output_type": "error",
          "ename": "TypeError",
          "evalue": "ignored",
          "traceback": [
            "\u001b[0;31m---------------------------------------------------------------------------\u001b[0m",
            "\u001b[0;31mTypeError\u001b[0m                                 Traceback (most recent call last)",
            "\u001b[0;32m/usr/local/lib/python3.8/dist-packages/numpy/core/fromnumeric.py\u001b[0m in \u001b[0;36m_wrapfunc\u001b[0;34m(obj, method, *args, **kwds)\u001b[0m\n\u001b[1;32m     56\u001b[0m     \u001b[0;32mtry\u001b[0m\u001b[0;34m:\u001b[0m\u001b[0;34m\u001b[0m\u001b[0;34m\u001b[0m\u001b[0m\n\u001b[0;32m---> 57\u001b[0;31m         \u001b[0;32mreturn\u001b[0m \u001b[0mbound\u001b[0m\u001b[0;34m(\u001b[0m\u001b[0;34m*\u001b[0m\u001b[0margs\u001b[0m\u001b[0;34m,\u001b[0m \u001b[0;34m**\u001b[0m\u001b[0mkwds\u001b[0m\u001b[0;34m)\u001b[0m\u001b[0;34m\u001b[0m\u001b[0;34m\u001b[0m\u001b[0m\n\u001b[0m\u001b[1;32m     58\u001b[0m     \u001b[0;32mexcept\u001b[0m \u001b[0mTypeError\u001b[0m\u001b[0;34m:\u001b[0m\u001b[0;34m\u001b[0m\u001b[0;34m\u001b[0m\u001b[0m\n",
            "\u001b[0;31mTypeError\u001b[0m: transpose() received an invalid combination of arguments - got (NoneType), but expected one of:\n * (int dim0, int dim1)\n * (name dim0, name dim1)\n",
            "\nDuring handling of the above exception, another exception occurred:\n",
            "\u001b[0;31mTypeError\u001b[0m                                 Traceback (most recent call last)",
            "\u001b[0;32m<ipython-input-30-b14631973c37>\u001b[0m in \u001b[0;36m<module>\u001b[0;34m\u001b[0m\n\u001b[1;32m      3\u001b[0m   \u001b[0mplt\u001b[0m\u001b[0;34m.\u001b[0m\u001b[0msubplot\u001b[0m\u001b[0;34m(\u001b[0m\u001b[0;36m2\u001b[0m\u001b[0;34m,\u001b[0m\u001b[0;36m3\u001b[0m\u001b[0;34m,\u001b[0m\u001b[0mi\u001b[0m\u001b[0;34m+\u001b[0m\u001b[0;36m1\u001b[0m\u001b[0;34m)\u001b[0m\u001b[0;34m\u001b[0m\u001b[0;34m\u001b[0m\u001b[0m\n\u001b[1;32m      4\u001b[0m   \u001b[0mplt\u001b[0m\u001b[0;34m.\u001b[0m\u001b[0mtight_layout\u001b[0m\u001b[0;34m(\u001b[0m\u001b[0;34m)\u001b[0m\u001b[0;34m\u001b[0m\u001b[0;34m\u001b[0m\u001b[0m\n\u001b[0;32m----> 5\u001b[0;31m   \u001b[0mplt\u001b[0m\u001b[0;34m.\u001b[0m\u001b[0mimshow\u001b[0m\u001b[0;34m(\u001b[0m\u001b[0mnp\u001b[0m\u001b[0;34m.\u001b[0m\u001b[0mtranspose\u001b[0m\u001b[0;34m(\u001b[0m\u001b[0mX\u001b[0m\u001b[0;34m[\u001b[0m\u001b[0mi\u001b[0m\u001b[0;34m]\u001b[0m\u001b[0;34m)\u001b[0m\u001b[0;34m,\u001b[0m \u001b[0minterpolation\u001b[0m\u001b[0;34m=\u001b[0m\u001b[0;34m'none'\u001b[0m\u001b[0;34m)\u001b[0m\u001b[0;34m\u001b[0m\u001b[0;34m\u001b[0m\u001b[0m\n\u001b[0m\u001b[1;32m      6\u001b[0m   \u001b[0mplt\u001b[0m\u001b[0;34m.\u001b[0m\u001b[0mtitle\u001b[0m\u001b[0;34m(\u001b[0m\u001b[0;34mf\"Label: {classes[y[i]]}\"\u001b[0m\u001b[0;34m)\u001b[0m\u001b[0;34m\u001b[0m\u001b[0;34m\u001b[0m\u001b[0m\n\u001b[1;32m      7\u001b[0m   \u001b[0mplt\u001b[0m\u001b[0;34m.\u001b[0m\u001b[0mxticks\u001b[0m\u001b[0;34m(\u001b[0m\u001b[0;34m[\u001b[0m\u001b[0;34m]\u001b[0m\u001b[0;34m)\u001b[0m\u001b[0;34m\u001b[0m\u001b[0;34m\u001b[0m\u001b[0m\n",
            "\u001b[0;32m<__array_function__ internals>\u001b[0m in \u001b[0;36mtranspose\u001b[0;34m(*args, **kwargs)\u001b[0m\n",
            "\u001b[0;32m/usr/local/lib/python3.8/dist-packages/numpy/core/fromnumeric.py\u001b[0m in \u001b[0;36mtranspose\u001b[0;34m(a, axes)\u001b[0m\n\u001b[1;32m    658\u001b[0m \u001b[0;34m\u001b[0m\u001b[0m\n\u001b[1;32m    659\u001b[0m     \"\"\"\n\u001b[0;32m--> 660\u001b[0;31m     \u001b[0;32mreturn\u001b[0m \u001b[0m_wrapfunc\u001b[0m\u001b[0;34m(\u001b[0m\u001b[0ma\u001b[0m\u001b[0;34m,\u001b[0m \u001b[0;34m'transpose'\u001b[0m\u001b[0;34m,\u001b[0m \u001b[0maxes\u001b[0m\u001b[0;34m)\u001b[0m\u001b[0;34m\u001b[0m\u001b[0;34m\u001b[0m\u001b[0m\n\u001b[0m\u001b[1;32m    661\u001b[0m \u001b[0;34m\u001b[0m\u001b[0m\n\u001b[1;32m    662\u001b[0m \u001b[0;34m\u001b[0m\u001b[0m\n",
            "\u001b[0;32m/usr/local/lib/python3.8/dist-packages/numpy/core/fromnumeric.py\u001b[0m in \u001b[0;36m_wrapfunc\u001b[0;34m(obj, method, *args, **kwds)\u001b[0m\n\u001b[1;32m     64\u001b[0m         \u001b[0;31m# Call _wrapit from within the except clause to ensure a potential\u001b[0m\u001b[0;34m\u001b[0m\u001b[0;34m\u001b[0m\u001b[0;34m\u001b[0m\u001b[0m\n\u001b[1;32m     65\u001b[0m         \u001b[0;31m# exception has a traceback chain.\u001b[0m\u001b[0;34m\u001b[0m\u001b[0;34m\u001b[0m\u001b[0;34m\u001b[0m\u001b[0m\n\u001b[0;32m---> 66\u001b[0;31m         \u001b[0;32mreturn\u001b[0m \u001b[0m_wrapit\u001b[0m\u001b[0;34m(\u001b[0m\u001b[0mobj\u001b[0m\u001b[0;34m,\u001b[0m \u001b[0mmethod\u001b[0m\u001b[0;34m,\u001b[0m \u001b[0;34m*\u001b[0m\u001b[0margs\u001b[0m\u001b[0;34m,\u001b[0m \u001b[0;34m**\u001b[0m\u001b[0mkwds\u001b[0m\u001b[0;34m)\u001b[0m\u001b[0;34m\u001b[0m\u001b[0;34m\u001b[0m\u001b[0m\n\u001b[0m\u001b[1;32m     67\u001b[0m \u001b[0;34m\u001b[0m\u001b[0m\n\u001b[1;32m     68\u001b[0m \u001b[0;34m\u001b[0m\u001b[0m\n",
            "\u001b[0;32m/usr/local/lib/python3.8/dist-packages/numpy/core/fromnumeric.py\u001b[0m in \u001b[0;36m_wrapit\u001b[0;34m(obj, method, *args, **kwds)\u001b[0m\n\u001b[1;32m     41\u001b[0m     \u001b[0;32mexcept\u001b[0m \u001b[0mAttributeError\u001b[0m\u001b[0;34m:\u001b[0m\u001b[0;34m\u001b[0m\u001b[0;34m\u001b[0m\u001b[0m\n\u001b[1;32m     42\u001b[0m         \u001b[0mwrap\u001b[0m \u001b[0;34m=\u001b[0m \u001b[0;32mNone\u001b[0m\u001b[0;34m\u001b[0m\u001b[0;34m\u001b[0m\u001b[0m\n\u001b[0;32m---> 43\u001b[0;31m     \u001b[0mresult\u001b[0m \u001b[0;34m=\u001b[0m \u001b[0mgetattr\u001b[0m\u001b[0;34m(\u001b[0m\u001b[0masarray\u001b[0m\u001b[0;34m(\u001b[0m\u001b[0mobj\u001b[0m\u001b[0;34m)\u001b[0m\u001b[0;34m,\u001b[0m \u001b[0mmethod\u001b[0m\u001b[0;34m)\u001b[0m\u001b[0;34m(\u001b[0m\u001b[0;34m*\u001b[0m\u001b[0margs\u001b[0m\u001b[0;34m,\u001b[0m \u001b[0;34m**\u001b[0m\u001b[0mkwds\u001b[0m\u001b[0;34m)\u001b[0m\u001b[0;34m\u001b[0m\u001b[0;34m\u001b[0m\u001b[0m\n\u001b[0m\u001b[1;32m     44\u001b[0m     \u001b[0;32mif\u001b[0m \u001b[0mwrap\u001b[0m\u001b[0;34m:\u001b[0m\u001b[0;34m\u001b[0m\u001b[0;34m\u001b[0m\u001b[0m\n\u001b[1;32m     45\u001b[0m         \u001b[0;32mif\u001b[0m \u001b[0;32mnot\u001b[0m \u001b[0misinstance\u001b[0m\u001b[0;34m(\u001b[0m\u001b[0mresult\u001b[0m\u001b[0;34m,\u001b[0m \u001b[0mmu\u001b[0m\u001b[0;34m.\u001b[0m\u001b[0mndarray\u001b[0m\u001b[0;34m)\u001b[0m\u001b[0;34m:\u001b[0m\u001b[0;34m\u001b[0m\u001b[0;34m\u001b[0m\u001b[0m\n",
            "\u001b[0;32m/usr/local/lib/python3.8/dist-packages/torch/_tensor.py\u001b[0m in \u001b[0;36m__array__\u001b[0;34m(self, dtype)\u001b[0m\n\u001b[1;32m    953\u001b[0m             \u001b[0;32mreturn\u001b[0m \u001b[0mhandle_torch_function\u001b[0m\u001b[0;34m(\u001b[0m\u001b[0mTensor\u001b[0m\u001b[0;34m.\u001b[0m\u001b[0m__array__\u001b[0m\u001b[0;34m,\u001b[0m \u001b[0;34m(\u001b[0m\u001b[0mself\u001b[0m\u001b[0;34m,\u001b[0m\u001b[0;34m)\u001b[0m\u001b[0;34m,\u001b[0m \u001b[0mself\u001b[0m\u001b[0;34m,\u001b[0m \u001b[0mdtype\u001b[0m\u001b[0;34m=\u001b[0m\u001b[0mdtype\u001b[0m\u001b[0;34m)\u001b[0m\u001b[0;34m\u001b[0m\u001b[0;34m\u001b[0m\u001b[0m\n\u001b[1;32m    954\u001b[0m         \u001b[0;32mif\u001b[0m \u001b[0mdtype\u001b[0m \u001b[0;32mis\u001b[0m \u001b[0;32mNone\u001b[0m\u001b[0;34m:\u001b[0m\u001b[0;34m\u001b[0m\u001b[0;34m\u001b[0m\u001b[0m\n\u001b[0;32m--> 955\u001b[0;31m             \u001b[0;32mreturn\u001b[0m \u001b[0mself\u001b[0m\u001b[0;34m.\u001b[0m\u001b[0mnumpy\u001b[0m\u001b[0;34m(\u001b[0m\u001b[0;34m)\u001b[0m\u001b[0;34m\u001b[0m\u001b[0;34m\u001b[0m\u001b[0m\n\u001b[0m\u001b[1;32m    956\u001b[0m         \u001b[0;32melse\u001b[0m\u001b[0;34m:\u001b[0m\u001b[0;34m\u001b[0m\u001b[0;34m\u001b[0m\u001b[0m\n\u001b[1;32m    957\u001b[0m             \u001b[0;32mreturn\u001b[0m \u001b[0mself\u001b[0m\u001b[0;34m.\u001b[0m\u001b[0mnumpy\u001b[0m\u001b[0;34m(\u001b[0m\u001b[0;34m)\u001b[0m\u001b[0;34m.\u001b[0m\u001b[0mastype\u001b[0m\u001b[0;34m(\u001b[0m\u001b[0mdtype\u001b[0m\u001b[0;34m,\u001b[0m \u001b[0mcopy\u001b[0m\u001b[0;34m=\u001b[0m\u001b[0;32mFalse\u001b[0m\u001b[0;34m)\u001b[0m\u001b[0;34m\u001b[0m\u001b[0;34m\u001b[0m\u001b[0m\n",
            "\u001b[0;31mTypeError\u001b[0m: can't convert cuda:0 device type tensor to numpy. Use Tensor.cpu() to copy the tensor to host memory first."
          ]
        },
        {
          "output_type": "display_data",
          "data": {
            "text/plain": [
              "<Figure size 432x288 with 1 Axes>"
            ],
            "image/png": "[encoded data removed]"
          },
          "metadata": {
            "needs_background": "light"
          }
        }
      ]
    },
    {
      "cell_type": "code",
      "source": [],
      "metadata": {
        "id": "iIRCMv2nwhOn"
      },
      "execution_count": null,
      "outputs": []
    },
    {
      "cell_type": "markdown",
      "source": [
        "*** \n",
        "**Ошибки в датасете с kaggle**"
      ],
      "metadata": {
        "id": "Lj3RkTKZwjrs"
      }
    },
    {
      "cell_type": "code",
      "source": [
        "#Устанавливаем библиотеку Kaggle\n",
        "! pip install kaggle"
      ],
      "metadata": {
        "colab": {
          "base_uri": "https://localhost:8080/"
        },
        "id": "-hRYLKGwwpM5",
        "outputId": "92ecaa75-469b-4371-ca44-6c6c0561853c"
      },
      "execution_count": 39,
      "outputs": [
        {
          "output_type": "stream",
          "name": "stdout",
          "text": [
            "Looking in indexes: https://pypi.org/simple, https://us-python.pkg.dev/colab-wheels/public/simple/\n",
            "Requirement already satisfied: kaggle in /usr/local/lib/python3.8/dist-packages (1.5.12)\n",
            "Requirement already satisfied: python-dateutil in /usr/local/lib/python3.8/dist-packages (from kaggle) (2.8.2)\n",
            "Requirement already satisfied: python-slugify in /usr/local/lib/python3.8/dist-packages (from kaggle) (7.0.0)\n",
            "Requirement already satisfied: urllib3 in /usr/local/lib/python3.8/dist-packages (from kaggle) (1.24.3)\n",
            "Requirement already satisfied: certifi in /usr/local/lib/python3.8/dist-packages (from kaggle) (2022.9.24)\n",
            "Requirement already satisfied: six>=1.10 in /usr/local/lib/python3.8/dist-packages (from kaggle) (1.15.0)\n",
            "Requirement already satisfied: requests in /usr/local/lib/python3.8/dist-packages (from kaggle) (2.23.0)\n",
            "Requirement already satisfied: tqdm in /usr/local/lib/python3.8/dist-packages (from kaggle) (4.64.1)\n",
            "Requirement already satisfied: text-unidecode>=1.3 in /usr/local/lib/python3.8/dist-packages (from python-slugify->kaggle) (1.3)\n",
            "Requirement already satisfied: idna<3,>=2.5 in /usr/local/lib/python3.8/dist-packages (from requests->kaggle) (2.10)\n",
            "Requirement already satisfied: chardet<4,>=3.0.2 in /usr/local/lib/python3.8/dist-packages (from requests->kaggle) (3.0.4)\n"
          ]
        }
      ]
    },
    {
      "cell_type": "code",
      "source": [
        "#создаем каталог с именем .kaggle\n",
        "! mkdir ~/.kaggle"
      ],
      "metadata": {
        "id": "zj-CmzOxwxKD"
      },
      "execution_count": 40,
      "outputs": []
    },
    {
      "cell_type": "code",
      "source": [
        "#копируем API в зозданный каталог\n",
        "! cp kaggle.json ~/.kaggle/"
      ],
      "metadata": {
        "id": "nNHYdE7_wxNF"
      },
      "execution_count": 44,
      "outputs": []
    },
    {
      "cell_type": "code",
      "source": [
        "#Назначаем необходимое разрешение к этому файлу\n",
        "! chmod 600 ~/.kaggle/kaggle.json"
      ],
      "metadata": {
        "id": "hnS5FQG1w4rY"
      },
      "execution_count": 45,
      "outputs": []
    },
    {
      "cell_type": "code",
      "source": [
        "#Загружаем соревнование с сайта kaggle\n",
        "! kaggle competitions download cifar-10"
      ],
      "metadata": {
        "colab": {
          "base_uri": "https://localhost:8080/"
        },
        "id": "Cbb2qz_Fw7X8",
        "outputId": "545f95ef-da08-4106-8260-a719a652691f"
      },
      "execution_count": 46,
      "outputs": [
        {
          "output_type": "stream",
          "name": "stdout",
          "text": [
            "Downloading cifar-10.zip to /content\n",
            " 99% 706M/715M [00:05<00:00, 144MB/s]\n",
            "100% 715M/715M [00:05<00:00, 143MB/s]\n"
          ]
        }
      ]
    },
    {
      "cell_type": "code",
      "source": [
        "#распаковываем архив\n",
        "! unzip cifar-10"
      ],
      "metadata": {
        "colab": {
          "base_uri": "https://localhost:8080/"
        },
        "id": "0CEjeo7lw95n",
        "outputId": "b104af38-29fe-496b-b539-c540fd846d0b"
      },
      "execution_count": 47,
      "outputs": [
        {
          "output_type": "stream",
          "name": "stdout",
          "text": [
            "Archive:  cifar-10.zip\n",
            "  inflating: sampleSubmission.csv    \n",
            "  inflating: test.7z                 \n",
            "  inflating: train.7z                \n",
            "  inflating: trainLabels.csv         \n"
          ]
        }
      ]
    },
    {
      "cell_type": "code",
      "source": [
        "!pip install py7zr"
      ],
      "metadata": {
        "colab": {
          "base_uri": "https://localhost:8080/"
        },
        "id": "E_NO3LMpxCAl",
        "outputId": "f74f6a2a-5585-49e9-a84b-4010a41e768c"
      },
      "execution_count": 48,
      "outputs": [
        {
          "output_type": "stream",
          "name": "stdout",
          "text": [
            "Looking in indexes: https://pypi.org/simple, https://us-python.pkg.dev/colab-wheels/public/simple/\n",
            "Collecting py7zr\n",
            "  Downloading py7zr-0.20.2-py3-none-any.whl (65 kB)\n",
            "\u001b[K     |████████████████████████████████| 65 kB 2.5 MB/s \n",
            "\u001b[?25hRequirement already satisfied: psutil in /usr/local/lib/python3.8/dist-packages (from py7zr) (5.4.8)\n",
            "Collecting brotli>=1.0.9\n",
            "  Downloading Brotli-1.0.9-cp38-cp38-manylinux1_x86_64.whl (357 kB)\n",
            "\u001b[K     |████████████████████████████████| 357 kB 11.4 MB/s \n",
            "\u001b[?25hCollecting pyzstd>=0.14.4\n",
            "  Downloading pyzstd-0.15.3-cp38-cp38-manylinux_2_17_x86_64.manylinux2014_x86_64.whl (378 kB)\n",
            "\u001b[K     |████████████████████████████████| 378 kB 52.8 MB/s \n",
            "\u001b[?25hCollecting multivolumefile>=0.2.3\n",
            "  Downloading multivolumefile-0.2.3-py3-none-any.whl (17 kB)\n",
            "Collecting texttable\n",
            "  Downloading texttable-1.6.7-py2.py3-none-any.whl (10 kB)\n",
            "Collecting pycryptodomex>=3.6.6\n",
            "  Downloading pycryptodomex-3.16.0-cp35-abi3-manylinux_2_5_x86_64.manylinux1_x86_64.manylinux_2_12_x86_64.manylinux2010_x86_64.whl (2.3 MB)\n",
            "\u001b[K     |████████████████████████████████| 2.3 MB 53.5 MB/s \n",
            "\u001b[?25hCollecting inflate64>=0.3.1\n",
            "  Downloading inflate64-0.3.1-cp38-cp38-manylinux_2_17_x86_64.manylinux2014_x86_64.whl (94 kB)\n",
            "\u001b[K     |████████████████████████████████| 94 kB 3.3 MB/s \n",
            "\u001b[?25hCollecting pybcj>=0.6.0\n",
            "  Downloading pybcj-1.0.1-cp38-cp38-manylinux_2_17_x86_64.manylinux2014_x86_64.whl (50 kB)\n",
            "\u001b[K     |████████████████████████████████| 50 kB 6.3 MB/s \n",
            "\u001b[?25hCollecting pyppmd<1.1.0,>=0.18.1\n",
            "  Downloading pyppmd-1.0.0-cp38-cp38-manylinux_2_17_x86_64.manylinux2014_x86_64.whl (139 kB)\n",
            "\u001b[K     |████████████████████████████████| 139 kB 53.3 MB/s \n",
            "\u001b[?25hInstalling collected packages: texttable, pyzstd, pyppmd, pycryptodomex, pybcj, multivolumefile, inflate64, brotli, py7zr\n",
            "Successfully installed brotli-1.0.9 inflate64-0.3.1 multivolumefile-0.2.3 py7zr-0.20.2 pybcj-1.0.1 pycryptodomex-3.16.0 pyppmd-1.0.0 pyzstd-0.15.3 texttable-1.6.7\n"
          ]
        }
      ]
    },
    {
      "cell_type": "code",
      "source": [
        "#распаковываем архивы 7z. Train:\n",
        "import py7zr\n",
        "with py7zr.SevenZipFile('train.7z', mode='r') as z:\n",
        "    z.extractall()"
      ],
      "metadata": {
        "id": "TmWXX7sbxEvp"
      },
      "execution_count": 49,
      "outputs": []
    },
    {
      "cell_type": "code",
      "source": [
        "#Test:\n",
        "with py7zr.SevenZipFile('test.7z', mode='r') as c:\n",
        "    c.extractall()"
      ],
      "metadata": {
        "id": "n-3DSgX7xL0-"
      },
      "execution_count": 50,
      "outputs": []
    },
    {
      "cell_type": "code",
      "source": [
        "import pandas as pd\n",
        "import numpy as np\n",
        "\n",
        "#разметка обучающего датасета\n",
        "train_labels = pd.read_csv('trainLabels.csv')\n",
        "train_labels.tail()"
      ],
      "metadata": {
        "colab": {
          "base_uri": "https://localhost:8080/",
          "height": 206
        },
        "id": "U0Dm-BFOxMjK",
        "outputId": "e51475c7-29f9-4b57-f296-e5fc5703a954"
      },
      "execution_count": 51,
      "outputs": [
        {
          "output_type": "execute_result",
          "data": {
            "text/plain": [
              "          id       label\n",
              "49995  49996        bird\n",
              "49996  49997        frog\n",
              "49997  49998       truck\n",
              "49998  49999  automobile\n",
              "49999  50000  automobile"
            ],
            "text/html": [
              "\n",
              "  <div id=\"df-ec52b8df-6299-4709-b84c-c3339da7b81a\">\n",
              "    <div class=\"colab-df-container\">\n",
              "      <div>\n",
              "<style scoped>\n",
              "    .dataframe tbody tr th:only-of-type {\n",
              "        vertical-align: middle;\n",
              "    }\n",
              "\n",
              "    .dataframe tbody tr th {\n",
              "        vertical-align: top;\n",
              "    }\n",
              "\n",
              "    .dataframe thead th {\n",
              "        text-align: right;\n",
              "    }\n",
              "</style>\n",
              "<table border=\"1\" class=\"dataframe\">\n",
              "  <thead>\n",
              "    <tr style=\"text-align: right;\">\n",
              "      <th></th>\n",
              "      <th>id</th>\n",
              "      <th>label</th>\n",
              "    </tr>\n",
              "  </thead>\n",
              "  <tbody>\n",
              "    <tr>\n",
              "      <th>49995</th>\n",
              "      <td>49996</td>\n",
              "      <td>bird</td>\n",
              "    </tr>\n",
              "    <tr>\n",
              "      <th>49996</th>\n",
              "      <td>49997</td>\n",
              "      <td>frog</td>\n",
              "    </tr>\n",
              "    <tr>\n",
              "      <th>49997</th>\n",
              "      <td>49998</td>\n",
              "      <td>truck</td>\n",
              "    </tr>\n",
              "    <tr>\n",
              "      <th>49998</th>\n",
              "      <td>49999</td>\n",
              "      <td>automobile</td>\n",
              "    </tr>\n",
              "    <tr>\n",
              "      <th>49999</th>\n",
              "      <td>50000</td>\n",
              "      <td>automobile</td>\n",
              "    </tr>\n",
              "  </tbody>\n",
              "</table>\n",
              "</div>\n",
              "      <button class=\"colab-df-convert\" onclick=\"convertToInteractive('df-ec52b8df-6299-4709-b84c-c3339da7b81a')\"\n",
              "              title=\"Convert this dataframe to an interactive table.\"\n",
              "              style=\"display:none;\">\n",
              "        \n",
              "  <svg xmlns=\"http://www.w3.org/2000/svg\" height=\"24px\"viewBox=\"0 0 24 24\"\n",
              "       width=\"24px\">\n",
              "    <path d=\"M0 0h24v24H0V0z\" fill=\"none\"/>\n",
              "    <path d=\"M18.56 5.44l.94 2.06.94-2.06 2.06-.94-2.06-.94-.94-2.06-.94 2.06-2.06.94zm-11 1L8.5 8.5l.94-2.06 2.06-.94-2.06-.94L8.5 2.5l-.94 2.06-2.06.94zm10 10l.94 2.06.94-2.06 2.06-.94-2.06-.94-.94-2.06-.94 2.06-2.06.94z\"/><path d=\"M17.41 7.96l-1.37-1.37c-.4-.4-.92-.59-1.43-.59-.52 0-1.04.2-1.43.59L10.3 9.45l-7.72 7.72c-.78.78-.78 2.05 0 2.83L4 21.41c.39.39.9.59 1.41.59.51 0 1.02-.2 1.41-.59l7.78-7.78 2.81-2.81c.8-.78.8-2.07 0-2.86zM5.41 20L4 18.59l7.72-7.72 1.47 1.35L5.41 20z\"/>\n",
              "  </svg>\n",
              "      </button>\n",
              "      \n",
              "  <style>\n",
              "    .colab-df-container {\n",
              "      display:flex;\n",
              "      flex-wrap:wrap;\n",
              "      gap: 12px;\n",
              "    }\n",
              "\n",
              "    .colab-df-convert {\n",
              "      background-color: #E8F0FE;\n",
              "      border: none;\n",
              "      border-radius: 50%;\n",
              "      cursor: pointer;\n",
              "      display: none;\n",
              "      fill: #1967D2;\n",
              "      height: 32px;\n",
              "      padding: 0 0 0 0;\n",
              "      width: 32px;\n",
              "    }\n",
              "\n",
              "    .colab-df-convert:hover {\n",
              "      background-color: #E2EBFA;\n",
              "      box-shadow: 0px 1px 2px rgba(60, 64, 67, 0.3), 0px 1px 3px 1px rgba(60, 64, 67, 0.15);\n",
              "      fill: #174EA6;\n",
              "    }\n",
              "\n",
              "    [theme=dark] .colab-df-convert {\n",
              "      background-color: #3B4455;\n",
              "      fill: #D2E3FC;\n",
              "    }\n",
              "\n",
              "    [theme=dark] .colab-df-convert:hover {\n",
              "      background-color: #434B5C;\n",
              "      box-shadow: 0px 1px 3px 1px rgba(0, 0, 0, 0.15);\n",
              "      filter: drop-shadow(0px 1px 2px rgba(0, 0, 0, 0.3));\n",
              "      fill: #FFFFFF;\n",
              "    }\n",
              "  </style>\n",
              "\n",
              "      <script>\n",
              "        const buttonEl =\n",
              "          document.querySelector('#df-ec52b8df-6299-4709-b84c-c3339da7b81a button.colab-df-convert');\n",
              "        buttonEl.style.display =\n",
              "          google.colab.kernel.accessAllowed ? 'block' : 'none';\n",
              "\n",
              "        async function convertToInteractive(key) {\n",
              "          const element = document.querySelector('#df-ec52b8df-6299-4709-b84c-c3339da7b81a');\n",
              "          const dataTable =\n",
              "            await google.colab.kernel.invokeFunction('convertToInteractive',\n",
              "                                                     [key], {});\n",
              "          if (!dataTable) return;\n",
              "\n",
              "          const docLinkHtml = 'Like what you see? Visit the ' +\n",
              "            '<a target=\"_blank\" href=https://colab.research.google.com/notebooks/data_table.ipynb>data table notebook</a>'\n",
              "            + ' to learn more about interactive tables.';\n",
              "          element.innerHTML = '';\n",
              "          dataTable['output_type'] = 'display_data';\n",
              "          await google.colab.output.renderOutput(dataTable, element);\n",
              "          const docLink = document.createElement('div');\n",
              "          docLink.innerHTML = docLinkHtml;\n",
              "          element.appendChild(docLink);\n",
              "        }\n",
              "      </script>\n",
              "    </div>\n",
              "  </div>\n",
              "  "
            ]
          },
          "metadata": {},
          "execution_count": 51
        }
      ]
    },
    {
      "cell_type": "code",
      "source": [
        "razmetka_train = train_labels.set_index('id').to_dict()['label']"
      ],
      "metadata": {
        "id": "1IoYOASs1jvA"
      },
      "execution_count": 52,
      "outputs": []
    },
    {
      "cell_type": "code",
      "source": [
        "classes = train_labels['label'].unique()\n",
        "\n",
        "#создаем папки со вложенными классами для обучающего датасета\n",
        "import os\n",
        "os.mkdir('TRAIN')\n",
        "for x in classes:\n",
        "  os.makedirs ('TRAIN/'+x)"
      ],
      "metadata": {
        "id": "miFx8zgY1uRx"
      },
      "execution_count": 53,
      "outputs": []
    },
    {
      "cell_type": "code",
      "source": [
        "#разносим файлы из обущающего набора по классам\n",
        "for key, value in razmetka_train.items():\n",
        "  os.replace (f'/content/train/{key}.png', f'/content/TRAIN/{value}/{key}.png')"
      ],
      "metadata": {
        "id": "LR6wsZUa11k0"
      },
      "execution_count": 54,
      "outputs": []
    },
    {
      "cell_type": "code",
      "source": [
        "import torchvision\n",
        "from torchvision import transforms\n",
        "# load dataset using torchvision.datasets.ImageFolder\n",
        "training_data = torchvision.datasets.ImageFolder(r'TRAIN', transform=transforms.ToTensor())"
      ],
      "metadata": {
        "id": "28kOab-549NT"
      },
      "execution_count": 47,
      "outputs": []
    },
    {
      "cell_type": "code",
      "source": [
        "from torch.utils.data import DataLoader\n",
        "\n",
        "batch_size = 50\n",
        "\n",
        "# Create data loaders.\n",
        "train_dataloader = DataLoader(training_data, batch_size=batch_size)"
      ],
      "metadata": {
        "id": "Rn6rWN3J6BdH"
      },
      "execution_count": 26,
      "outputs": []
    },
    {
      "cell_type": "code",
      "source": [
        "# Визуализируем несколько изображений из обучающего датасета\n",
        "from matplotlib import pyplot as plt\n",
        "%matplotlib inline\n",
        "\n",
        "examples = enumerate(train_dataloader)\n",
        "batch_idx, (example_data, example_targets) = next(examples)\n",
        "\n",
        "fig = plt.figure()\n",
        "for i in range(6):\n",
        "  plt.subplot(2,3,i+1)\n",
        "  plt.tight_layout()\n",
        "  plt.imshow(np.transpose(example_data[i]), interpolation='none')\n",
        "  plt.title(f\"Label: {classes[example_targets[i]]}\")\n",
        "  plt.xticks([])\n",
        "  plt.yticks([])"
      ],
      "metadata": {
        "colab": {
          "base_uri": "https://localhost:8080/",
          "height": 284
        },
        "id": "6ju2ha-j2Cjr",
        "outputId": "2e862a88-fcf4-4147-857d-4a87ef5f57e6"
      },
      "execution_count": 51,
      "outputs": [
        {
          "output_type": "display_data",
          "data": {
            "text/plain": [
              "<Figure size 432x288 with 6 Axes>"
            ],
            "image/png": "[encoded data removed]"
          },
          "metadata": {}
        }
      ]
    },
    {
      "cell_type": "code",
      "source": [
        "plt.imshow(np.transpose(example_data[49]), interpolation='none')\n",
        "plt.title(f\"Label: {classes[example_targets[49]]}\")"
      ],
      "metadata": {
        "colab": {
          "base_uri": "https://localhost:8080/",
          "height": 298
        },
        "id": "IgkL_nvX6su5",
        "outputId": "54141663-6238-41f7-fe14-c66a56d58260"
      },
      "execution_count": 45,
      "outputs": [
        {
          "output_type": "execute_result",
          "data": {
            "text/plain": [
              "Text(0.5, 1.0, 'Label: frog')"
            ]
          },
          "metadata": {},
          "execution_count": 45
        },
        {
          "output_type": "display_data",
          "data": {
            "text/plain": [
              "<Figure size 432x288 with 1 Axes>"
            ],
            "image/png": "[encoded data removed]"
          },
          "metadata": {
            "needs_background": "light"
          }
        }
      ]
    },
    {
      "cell_type": "code",
      "source": [
        "classes"
      ],
      "metadata": {
        "colab": {
          "base_uri": "https://localhost:8080/"
        },
        "id": "e3kPTXPO7XXG",
        "outputId": "30abde9b-a9d6-48a1-c8a8-502b8335b77f"
      },
      "execution_count": 52,
      "outputs": [
        {
          "output_type": "execute_result",
          "data": {
            "text/plain": [
              "array(['frog', 'truck', 'deer', 'automobile', 'bird', 'horse', 'ship',\n",
              "       'cat', 'dog', 'airplane'], dtype=object)"
            ]
          },
          "metadata": {},
          "execution_count": 52
        }
      ]
    },
    {
      "cell_type": "code",
      "source": [
        "from PIL import Image\n",
        "from pathlib import Path"
      ],
      "metadata": {
        "id": "IXI7c0G-LkHy"
      },
      "execution_count": 56,
      "outputs": []
    },
    {
      "cell_type": "code",
      "source": [
        "test_dataset = Path('/content/test')"
      ],
      "metadata": {
        "id": "b2CHEEGcjuZJ"
      },
      "execution_count": 57,
      "outputs": []
    },
    {
      "cell_type": "code",
      "source": [
        "images = [p.resolve() for p in test_dataset.glob('*') if p.suffix in {'.png'}]"
      ],
      "metadata": {
        "id": "xD0JZt-VkKNg"
      },
      "execution_count": 58,
      "outputs": []
    },
    {
      "cell_type": "code",
      "source": [
        "# В тестовом наборе должно было быть 10 000 изображений. У нас оказалось 300 000...\n",
        "len(images)"
      ],
      "metadata": {
        "colab": {
          "base_uri": "https://localhost:8080/"
        },
        "id": "LMN5v4KOmw0W",
        "outputId": "03d66335-54c8-424a-bda2-950a988bbbe8"
      },
      "execution_count": 59,
      "outputs": [
        {
          "output_type": "execute_result",
          "data": {
            "text/plain": [
              "300000"
            ]
          },
          "metadata": {},
          "execution_count": 59
        }
      ]
    },
    {
      "cell_type": "code",
      "source": [
        "rand_idx = np.random.randint(len(images))\n",
        "img = Image.open (images[rand_idx])\n",
        "plt.imshow (img)\n",
        "plt.axis ('off')\n",
        "plt.show()"
      ],
      "metadata": {
        "colab": {
          "base_uri": "https://localhost:8080/",
          "height": 248
        },
        "id": "TIFmTNWNm_EA",
        "outputId": "45646774-760b-4e3c-d42c-d138cbbffd2a"
      },
      "execution_count": 81,
      "outputs": [
        {
          "output_type": "display_data",
          "data": {
            "text/plain": [
              "<Figure size 432x288 with 1 Axes>"
            ],
            "image/png": "[encoded data removed]"
          },
          "metadata": {
            "needs_background": "light"
          }
        }
      ]
    }
  ],
  "metadata": {
    "accelerator": "GPU",
    "colab": {
      "provenance": []
    },
    "gpuClass": "standard",
    "kernelspec": {
      "display_name": "Python 3",
      "name": "python3"
    },
    "language_info": {
      "name": "python"
    },
    "widgets": {
      "application/vnd.jupyter.widget-state+json": {
        "e7de0389a1374a79b8ecade509eab579": {
          "model_module": "@jupyter-widgets/controls",
          "model_name": "HBoxModel",
          "model_module_version": "1.5.0",
          "state": {
            "_dom_classes": [],
            "_model_module": "@jupyter-widgets/controls",
            "_model_module_version": "1.5.0",
            "_model_name": "HBoxModel",
            "_view_count": null,
            "_view_module": "@jupyter-widgets/controls",
            "_view_module_version": "1.5.0",
            "_view_name": "HBoxView",
            "box_style": "",
            "children": [
              "IPY_MODEL_6be207a64c33410181a66694730829f8",
              "IPY_MODEL_68d1cf52d8734818993e898694f9b26d",
              "IPY_MODEL_13defc17114b412199270de7a352d237"
            ],
            "layout": "IPY_MODEL_cee09959094d4e94bca06473aff10e0a"
          }
        },
        "6be207a64c33410181a66694730829f8": {
          "model_module": "@jupyter-widgets/controls",
          "model_name": "HTMLModel",
          "model_module_version": "1.5.0",
          "state": {
            "_dom_classes": [],
            "_model_module": "@jupyter-widgets/controls",
            "_model_module_version": "1.5.0",
            "_model_name": "HTMLModel",
            "_view_count": null,
            "_view_module": "@jupyter-widgets/controls",
            "_view_module_version": "1.5.0",
            "_view_name": "HTMLView",
            "description": "",
            "description_tooltip": null,
            "layout": "IPY_MODEL_7f2775e7b3a34f21898c621cf2988407",
            "placeholder": "​",
            "style": "IPY_MODEL_38577810f63a43c3a9eae1b3cdb1d86b",
            "value": "100%"
          }
        },
        "68d1cf52d8734818993e898694f9b26d": {
          "model_module": "@jupyter-widgets/controls",
          "model_name": "FloatProgressModel",
          "model_module_version": "1.5.0",
          "state": {
            "_dom_classes": [],
            "_model_module": "@jupyter-widgets/controls",
            "_model_module_version": "1.5.0",
            "_model_name": "FloatProgressModel",
            "_view_count": null,
            "_view_module": "@jupyter-widgets/controls",
            "_view_module_version": "1.5.0",
            "_view_name": "ProgressView",
            "bar_style": "success",
            "description": "",
            "description_tooltip": null,
            "layout": "IPY_MODEL_fe46c39d89894861bc3166352c79df16",
            "max": 170498071,
            "min": 0,
            "orientation": "horizontal",
            "style": "IPY_MODEL_f38acbf996104bc69785b32dd24ed720",
            "value": 170498071
          }
        },
        "13defc17114b412199270de7a352d237": {
          "model_module": "@jupyter-widgets/controls",
          "model_name": "HTMLModel",
          "model_module_version": "1.5.0",
          "state": {
            "_dom_classes": [],
            "_model_module": "@jupyter-widgets/controls",
            "_model_module_version": "1.5.0",
            "_model_name": "HTMLModel",
            "_view_count": null,
            "_view_module": "@jupyter-widgets/controls",
            "_view_module_version": "1.5.0",
            "_view_name": "HTMLView",
            "description": "",
            "description_tooltip": null,
            "layout": "IPY_MODEL_e388631c0b8f4943a578a30a7274c0c3",
            "placeholder": "​",
            "style": "IPY_MODEL_0f88cc7a24d8456eb1ca58ca3463b98b",
            "value": " 170498071/170498071 [00:18&lt;00:00, 5416017.87it/s]"
          }
        },
        "cee09959094d4e94bca06473aff10e0a": {
          "model_module": "@jupyter-widgets/base",
          "model_name": "LayoutModel",
          "model_module_version": "1.2.0",
          "state": {
            "_model_module": "@jupyter-widgets/base",
            "_model_module_version": "1.2.0",
            "_model_name": "LayoutModel",
            "_view_count": null,
            "_view_module": "@jupyter-widgets/base",
            "_view_module_version": "1.2.0",
            "_view_name": "LayoutView",
            "align_content": null,
            "align_items": null,
            "align_self": null,
            "border": null,
            "bottom": null,
            "display": null,
            "flex": null,
            "flex_flow": null,
            "grid_area": null,
            "grid_auto_columns": null,
            "grid_auto_flow": null,
            "grid_auto_rows": null,
            "grid_column": null,
            "grid_gap": null,
            "grid_row": null,
            "grid_template_areas": null,
            "grid_template_columns": null,
            "grid_template_rows": null,
            "height": null,
            "justify_content": null,
            "justify_items": null,
            "left": null,
            "margin": null,
            "max_height": null,
            "max_width": null,
            "min_height": null,
            "min_width": null,
            "object_fit": null,
            "object_position": null,
            "order": null,
            "overflow": null,
            "overflow_x": null,
            "overflow_y": null,
            "padding": null,
            "right": null,
            "top": null,
            "visibility": null,
            "width": null
          }
        },
        "7f2775e7b3a34f21898c621cf2988407": {
          "model_module": "@jupyter-widgets/base",
          "model_name": "LayoutModel",
          "model_module_version": "1.2.0",
          "state": {
            "_model_module": "@jupyter-widgets/base",
            "_model_module_version": "1.2.0",
            "_model_name": "LayoutModel",
            "_view_count": null,
            "_view_module": "@jupyter-widgets/base",
            "_view_module_version": "1.2.0",
            "_view_name": "LayoutView",
            "align_content": null,
            "align_items": null,
            "align_self": null,
            "border": null,
            "bottom": null,
            "display": null,
            "flex": null,
            "flex_flow": null,
            "grid_area": null,
            "grid_auto_columns": null,
            "grid_auto_flow": null,
            "grid_auto_rows": null,
            "grid_column": null,
            "grid_gap": null,
            "grid_row": null,
            "grid_template_areas": null,
            "grid_template_columns": null,
            "grid_template_rows": null,
            "height": null,
            "justify_content": null,
            "justify_items": null,
            "left": null,
            "margin": null,
            "max_height": null,
            "max_width": null,
            "min_height": null,
            "min_width": null,
            "object_fit": null,
            "object_position": null,
            "order": null,
            "overflow": null,
            "overflow_x": null,
            "overflow_y": null,
            "padding": null,
            "right": null,
            "top": null,
            "visibility": null,
            "width": null
          }
        },
        "38577810f63a43c3a9eae1b3cdb1d86b": {
          "model_module": "@jupyter-widgets/controls",
          "model_name": "DescriptionStyleModel",
          "model_module_version": "1.5.0",
          "state": {
            "_model_module": "@jupyter-widgets/controls",
            "_model_module_version": "1.5.0",
            "_model_name": "DescriptionStyleModel",
            "_view_count": null,
            "_view_module": "@jupyter-widgets/base",
            "_view_module_version": "1.2.0",
            "_view_name": "StyleView",
            "description_width": ""
          }
        },
        "fe46c39d89894861bc3166352c79df16": {
          "model_module": "@jupyter-widgets/base",
          "model_name": "LayoutModel",
          "model_module_version": "1.2.0",
          "state": {
            "_model_module": "@jupyter-widgets/base",
            "_model_module_version": "1.2.0",
            "_model_name": "LayoutModel",
            "_view_count": null,
            "_view_module": "@jupyter-widgets/base",
            "_view_module_version": "1.2.0",
            "_view_name": "LayoutView",
            "align_content": null,
            "align_items": null,
            "align_self": null,
            "border": null,
            "bottom": null,
            "display": null,
            "flex": null,
            "flex_flow": null,
            "grid_area": null,
            "grid_auto_columns": null,
            "grid_auto_flow": null,
            "grid_auto_rows": null,
            "grid_column": null,
            "grid_gap": null,
            "grid_row": null,
            "grid_template_areas": null,
            "grid_template_columns": null,
            "grid_template_rows": null,
            "height": null,
            "justify_content": null,
            "justify_items": null,
            "left": null,
            "margin": null,
            "max_height": null,
            "max_width": null,
            "min_height": null,
            "min_width": null,
            "object_fit": null,
            "object_position": null,
            "order": null,
            "overflow": null,
            "overflow_x": null,
            "overflow_y": null,
            "padding": null,
            "right": null,
            "top": null,
            "visibility": null,
            "width": null
          }
        },
        "f38acbf996104bc69785b32dd24ed720": {
          "model_module": "@jupyter-widgets/controls",
          "model_name": "ProgressStyleModel",
          "model_module_version": "1.5.0",
          "state": {
            "_model_module": "@jupyter-widgets/controls",
            "_model_module_version": "1.5.0",
            "_model_name": "ProgressStyleModel",
            "_view_count": null,
            "_view_module": "@jupyter-widgets/base",
            "_view_module_version": "1.2.0",
            "_view_name": "StyleView",
            "bar_color": null,
            "description_width": ""
          }
        },
        "e388631c0b8f4943a578a30a7274c0c3": {
          "model_module": "@jupyter-widgets/base",
          "model_name": "LayoutModel",
          "model_module_version": "1.2.0",
          "state": {
            "_model_module": "@jupyter-widgets/base",
            "_model_module_version": "1.2.0",
            "_model_name": "LayoutModel",
            "_view_count": null,
            "_view_module": "@jupyter-widgets/base",
            "_view_module_version": "1.2.0",
            "_view_name": "LayoutView",
            "align_content": null,
            "align_items": null,
            "align_self": null,
            "border": null,
            "bottom": null,
            "display": null,
            "flex": null,
            "flex_flow": null,
            "grid_area": null,
            "grid_auto_columns": null,
            "grid_auto_flow": null,
            "grid_auto_rows": null,
            "grid_column": null,
            "grid_gap": null,
            "grid_row": null,
            "grid_template_areas": null,
            "grid_template_columns": null,
            "grid_template_rows": null,
            "height": null,
            "justify_content": null,
            "justify_items": null,
            "left": null,
            "margin": null,
            "max_height": null,
            "max_width": null,
            "min_height": null,
            "min_width": null,
            "object_fit": null,
            "object_position": null,
            "order": null,
            "overflow": null,
            "overflow_x": null,
            "overflow_y": null,
            "padding": null,
            "right": null,
            "top": null,
            "visibility": null,
            "width": null
          }
        },
        "0f88cc7a24d8456eb1ca58ca3463b98b": {
          "model_module": "@jupyter-widgets/controls",
          "model_name": "DescriptionStyleModel",
          "model_module_version": "1.5.0",
          "state": {
            "_model_module": "@jupyter-widgets/controls",
            "_model_module_version": "1.5.0",
            "_model_name": "DescriptionStyleModel",
            "_view_count": null,
            "_view_module": "@jupyter-widgets/base",
            "_view_module_version": "1.2.0",
            "_view_name": "StyleView",
            "description_width": ""
          }
        },
        "f925d4f425be4db9aa90dcdf514d4073": {
          "model_module": "@jupyter-widgets/controls",
          "model_name": "HBoxModel",
          "model_module_version": "1.5.0",
          "state": {
            "_dom_classes": [],
            "_model_module": "@jupyter-widgets/controls",
            "_model_module_version": "1.5.0",
            "_model_name": "HBoxModel",
            "_view_count": null,
            "_view_module": "@jupyter-widgets/controls",
            "_view_module_version": "1.5.0",
            "_view_name": "HBoxView",
            "box_style": "",
            "children": [
              "IPY_MODEL_cea564885c8a42a69f5aaecbc4d1a128",
              "IPY_MODEL_9c294ff540ab437887dad342f9122f16",
              "IPY_MODEL_a0b3d3845ee3475ebe1dbfb802abb73b"
            ],
            "layout": "IPY_MODEL_180f2bee79a3450f924475de4c0b8c4e"
          }
        },
        "cea564885c8a42a69f5aaecbc4d1a128": {
          "model_module": "@jupyter-widgets/controls",
          "model_name": "HTMLModel",
          "model_module_version": "1.5.0",
          "state": {
            "_dom_classes": [],
            "_model_module": "@jupyter-widgets/controls",
            "_model_module_version": "1.5.0",
            "_model_name": "HTMLModel",
            "_view_count": null,
            "_view_module": "@jupyter-widgets/controls",
            "_view_module_version": "1.5.0",
            "_view_name": "HTMLView",
            "description": "",
            "description_tooltip": null,
            "layout": "IPY_MODEL_ea269921fc514cbd998c49cefa10c760",
            "placeholder": "​",
            "style": "IPY_MODEL_3b85e8e2d3414f69a22d2606d2157a4d",
            "value": "100%"
          }
        },
        "9c294ff540ab437887dad342f9122f16": {
          "model_module": "@jupyter-widgets/controls",
          "model_name": "FloatProgressModel",
          "model_module_version": "1.5.0",
          "state": {
            "_dom_classes": [],
            "_model_module": "@jupyter-widgets/controls",
            "_model_module_version": "1.5.0",
            "_model_name": "FloatProgressModel",
            "_view_count": null,
            "_view_module": "@jupyter-widgets/controls",
            "_view_module_version": "1.5.0",
            "_view_name": "ProgressView",
            "bar_style": "success",
            "description": "",
            "description_tooltip": null,
            "layout": "IPY_MODEL_f49632bc312c45539fe7128b4874299e",
            "max": 531503671,
            "min": 0,
            "orientation": "horizontal",
            "style": "IPY_MODEL_6ca34361d5ed4ec9936ffcd18d5b9462",
            "value": 531503671
          }
        },
        "a0b3d3845ee3475ebe1dbfb802abb73b": {
          "model_module": "@jupyter-widgets/controls",
          "model_name": "HTMLModel",
          "model_module_version": "1.5.0",
          "state": {
            "_dom_classes": [],
            "_model_module": "@jupyter-widgets/controls",
            "_model_module_version": "1.5.0",
            "_model_name": "HTMLModel",
            "_view_count": null,
            "_view_module": "@jupyter-widgets/controls",
            "_view_module_version": "1.5.0",
            "_view_name": "HTMLView",
            "description": "",
            "description_tooltip": null,
            "layout": "IPY_MODEL_5adb7aad81d54db5ad07fa5caa0fc5db",
            "placeholder": "​",
            "style": "IPY_MODEL_fcb319c63e1b4c628928c1d6906df1b5",
            "value": " 507M/507M [00:01&lt;00:00, 276MB/s]"
          }
        },
        "180f2bee79a3450f924475de4c0b8c4e": {
          "model_module": "@jupyter-widgets/base",
          "model_name": "LayoutModel",
          "model_module_version": "1.2.0",
          "state": {
            "_model_module": "@jupyter-widgets/base",
            "_model_module_version": "1.2.0",
            "_model_name": "LayoutModel",
            "_view_count": null,
            "_view_module": "@jupyter-widgets/base",
            "_view_module_version": "1.2.0",
            "_view_name": "LayoutView",
            "align_content": null,
            "align_items": null,
            "align_self": null,
            "border": null,
            "bottom": null,
            "display": null,
            "flex": null,
            "flex_flow": null,
            "grid_area": null,
            "grid_auto_columns": null,
            "grid_auto_flow": null,
            "grid_auto_rows": null,
            "grid_column": null,
            "grid_gap": null,
            "grid_row": null,
            "grid_template_areas": null,
            "grid_template_columns": null,
            "grid_template_rows": null,
            "height": null,
            "justify_content": null,
            "justify_items": null,
            "left": null,
            "margin": null,
            "max_height": null,
            "max_width": null,
            "min_height": null,
            "min_width": null,
            "object_fit": null,
            "object_position": null,
            "order": null,
            "overflow": null,
            "overflow_x": null,
            "overflow_y": null,
            "padding": null,
            "right": null,
            "top": null,
            "visibility": null,
            "width": null
          }
        },
        "ea269921fc514cbd998c49cefa10c760": {
          "model_module": "@jupyter-widgets/base",
          "model_name": "LayoutModel",
          "model_module_version": "1.2.0",
          "state": {
            "_model_module": "@jupyter-widgets/base",
            "_model_module_version": "1.2.0",
            "_model_name": "LayoutModel",
            "_view_count": null,
            "_view_module": "@jupyter-widgets/base",
            "_view_module_version": "1.2.0",
            "_view_name": "LayoutView",
            "align_content": null,
            "align_items": null,
            "align_self": null,
            "border": null,
            "bottom": null,
            "display": null,
            "flex": null,
            "flex_flow": null,
            "grid_area": null,
            "grid_auto_columns": null,
            "grid_auto_flow": null,
            "grid_auto_rows": null,
            "grid_column": null,
            "grid_gap": null,
            "grid_row": null,
            "grid_template_areas": null,
            "grid_template_columns": null,
            "grid_template_rows": null,
            "height": null,
            "justify_content": null,
            "justify_items": null,
            "left": null,
            "margin": null,
            "max_height": null,
            "max_width": null,
            "min_height": null,
            "min_width": null,
            "object_fit": null,
            "object_position": null,
            "order": null,
            "overflow": null,
            "overflow_x": null,
            "overflow_y": null,
            "padding": null,
            "right": null,
            "top": null,
            "visibility": null,
            "width": null
          }
        },
        "3b85e8e2d3414f69a22d2606d2157a4d": {
          "model_module": "@jupyter-widgets/controls",
          "model_name": "DescriptionStyleModel",
          "model_module_version": "1.5.0",
          "state": {
            "_model_module": "@jupyter-widgets/controls",
            "_model_module_version": "1.5.0",
            "_model_name": "DescriptionStyleModel",
            "_view_count": null,
            "_view_module": "@jupyter-widgets/base",
            "_view_module_version": "1.2.0",
            "_view_name": "StyleView",
            "description_width": ""
          }
        },
        "f49632bc312c45539fe7128b4874299e": {
          "model_module": "@jupyter-widgets/base",
          "model_name": "LayoutModel",
          "model_module_version": "1.2.0",
          "state": {
            "_model_module": "@jupyter-widgets/base",
            "_model_module_version": "1.2.0",
            "_model_name": "LayoutModel",
            "_view_count": null,
            "_view_module": "@jupyter-widgets/base",
            "_view_module_version": "1.2.0",
            "_view_name": "LayoutView",
            "align_content": null,
            "align_items": null,
            "align_self": null,
            "border": null,
            "bottom": null,
            "display": null,
            "flex": null,
            "flex_flow": null,
            "grid_area": null,
            "grid_auto_columns": null,
            "grid_auto_flow": null,
            "grid_auto_rows": null,
            "grid_column": null,
            "grid_gap": null,
            "grid_row": null,
            "grid_template_areas": null,
            "grid_template_columns": null,
            "grid_template_rows": null,
            "height": null,
            "justify_content": null,
            "justify_items": null,
            "left": null,
            "margin": null,
            "max_height": null,
            "max_width": null,
            "min_height": null,
            "min_width": null,
            "object_fit": null,
            "object_position": null,
            "order": null,
            "overflow": null,
            "overflow_x": null,
            "overflow_y": null,
            "padding": null,
            "right": null,
            "top": null,
            "visibility": null,
            "width": null
          }
        },
        "6ca34361d5ed4ec9936ffcd18d5b9462": {
          "model_module": "@jupyter-widgets/controls",
          "model_name": "ProgressStyleModel",
          "model_module_version": "1.5.0",
          "state": {
            "_model_module": "@jupyter-widgets/controls",
            "_model_module_version": "1.5.0",
            "_model_name": "ProgressStyleModel",
            "_view_count": null,
            "_view_module": "@jupyter-widgets/base",
            "_view_module_version": "1.2.0",
            "_view_name": "StyleView",
            "bar_color": null,
            "description_width": ""
          }
        },
        "5adb7aad81d54db5ad07fa5caa0fc5db": {
          "model_module": "@jupyter-widgets/base",
          "model_name": "LayoutModel",
          "model_module_version": "1.2.0",
          "state": {
            "_model_module": "@jupyter-widgets/base",
            "_model_module_version": "1.2.0",
            "_model_name": "LayoutModel",
            "_view_count": null,
            "_view_module": "@jupyter-widgets/base",
            "_view_module_version": "1.2.0",
            "_view_name": "LayoutView",
            "align_content": null,
            "align_items": null,
            "align_self": null,
            "border": null,
            "bottom": null,
            "display": null,
            "flex": null,
            "flex_flow": null,
            "grid_area": null,
            "grid_auto_columns": null,
            "grid_auto_flow": null,
            "grid_auto_rows": null,
            "grid_column": null,
            "grid_gap": null,
            "grid_row": null,
            "grid_template_areas": null,
            "grid_template_columns": null,
            "grid_template_rows": null,
            "height": null,
            "justify_content": null,
            "justify_items": null,
            "left": null,
            "margin": null,
            "max_height": null,
            "max_width": null,
            "min_height": null,
            "min_width": null,
            "object_fit": null,
            "object_position": null,
            "order": null,
            "overflow": null,
            "overflow_x": null,
            "overflow_y": null,
            "padding": null,
            "right": null,
            "top": null,
            "visibility": null,
            "width": null
          }
        },
        "fcb319c63e1b4c628928c1d6906df1b5": {
          "model_module": "@jupyter-widgets/controls",
          "model_name": "DescriptionStyleModel",
          "model_module_version": "1.5.0",
          "state": {
            "_model_module": "@jupyter-widgets/controls",
            "_model_module_version": "1.5.0",
            "_model_name": "DescriptionStyleModel",
            "_view_count": null,
            "_view_module": "@jupyter-widgets/base",
            "_view_module_version": "1.2.0",
            "_view_name": "StyleView",
            "description_width": ""
          }
        },
        "00ecb522347e4984affd5c4a4937d32d": {
          "model_module": "@jupyter-widgets/controls",
          "model_name": "HBoxModel",
          "model_module_version": "1.5.0",
          "state": {
            "_dom_classes": [],
            "_model_module": "@jupyter-widgets/controls",
            "_model_module_version": "1.5.0",
            "_model_name": "HBoxModel",
            "_view_count": null,
            "_view_module": "@jupyter-widgets/controls",
            "_view_module_version": "1.5.0",
            "_view_name": "HBoxView",
            "box_style": "",
            "children": [
              "IPY_MODEL_63911ade52464c1fb789fc266dcceca5",
              "IPY_MODEL_cb3842e05f9a42a3bf40b2a9e8f62f22",
              "IPY_MODEL_9bb0a628624d453686c66a854ab3937c"
            ],
            "layout": "IPY_MODEL_3fb785c6825541b5aaf0099ee923d325"
          }
        },
        "63911ade52464c1fb789fc266dcceca5": {
          "model_module": "@jupyter-widgets/controls",
          "model_name": "HTMLModel",
          "model_module_version": "1.5.0",
          "state": {
            "_dom_classes": [],
            "_model_module": "@jupyter-widgets/controls",
            "_model_module_version": "1.5.0",
            "_model_name": "HTMLModel",
            "_view_count": null,
            "_view_module": "@jupyter-widgets/controls",
            "_view_module_version": "1.5.0",
            "_view_name": "HTMLView",
            "description": "",
            "description_tooltip": null,
            "layout": "IPY_MODEL_ed7d7665c985433c80fd221635d09a49",
            "placeholder": "​",
            "style": "IPY_MODEL_9b8913f99db44c9d924457bd4858d145",
            "value": "100%"
          }
        },
        "cb3842e05f9a42a3bf40b2a9e8f62f22": {
          "model_module": "@jupyter-widgets/controls",
          "model_name": "FloatProgressModel",
          "model_module_version": "1.5.0",
          "state": {
            "_dom_classes": [],
            "_model_module": "@jupyter-widgets/controls",
            "_model_module_version": "1.5.0",
            "_model_name": "FloatProgressModel",
            "_view_count": null,
            "_view_module": "@jupyter-widgets/controls",
            "_view_module_version": "1.5.0",
            "_view_name": "ProgressView",
            "bar_style": "success",
            "description": "",
            "description_tooltip": null,
            "layout": "IPY_MODEL_1e1de8a19e6d4dd795fef6a89aab247a",
            "max": 241627721,
            "min": 0,
            "orientation": "horizontal",
            "style": "IPY_MODEL_874076274ff8483190474849d3ce16e2",
            "value": 241627721
          }
        },
        "9bb0a628624d453686c66a854ab3937c": {
          "model_module": "@jupyter-widgets/controls",
          "model_name": "HTMLModel",
          "model_module_version": "1.5.0",
          "state": {
            "_dom_classes": [],
            "_model_module": "@jupyter-widgets/controls",
            "_model_module_version": "1.5.0",
            "_model_name": "HTMLModel",
            "_view_count": null,
            "_view_module": "@jupyter-widgets/controls",
            "_view_module_version": "1.5.0",
            "_view_name": "HTMLView",
            "description": "",
            "description_tooltip": null,
            "layout": "IPY_MODEL_b1ac914ab95441ff8e5637b4268c19b1",
            "placeholder": "​",
            "style": "IPY_MODEL_6ccb1ed8fd5f4d43b379065d1aecf1bb",
            "value": " 230M/230M [00:00&lt;00:00, 262MB/s]"
          }
        },
        "3fb785c6825541b5aaf0099ee923d325": {
          "model_module": "@jupyter-widgets/base",
          "model_name": "LayoutModel",
          "model_module_version": "1.2.0",
          "state": {
            "_model_module": "@jupyter-widgets/base",
            "_model_module_version": "1.2.0",
            "_model_name": "LayoutModel",
            "_view_count": null,
            "_view_module": "@jupyter-widgets/base",
            "_view_module_version": "1.2.0",
            "_view_name": "LayoutView",
            "align_content": null,
            "align_items": null,
            "align_self": null,
            "border": null,
            "bottom": null,
            "display": null,
            "flex": null,
            "flex_flow": null,
            "grid_area": null,
            "grid_auto_columns": null,
            "grid_auto_flow": null,
            "grid_auto_rows": null,
            "grid_column": null,
            "grid_gap": null,
            "grid_row": null,
            "grid_template_areas": null,
            "grid_template_columns": null,
            "grid_template_rows": null,
            "height": null,
            "justify_content": null,
            "justify_items": null,
            "left": null,
            "margin": null,
            "max_height": null,
            "max_width": null,
            "min_height": null,
            "min_width": null,
            "object_fit": null,
            "object_position": null,
            "order": null,
            "overflow": null,
            "overflow_x": null,
            "overflow_y": null,
            "padding": null,
            "right": null,
            "top": null,
            "visibility": null,
            "width": null
          }
        },
        "ed7d7665c985433c80fd221635d09a49": {
          "model_module": "@jupyter-widgets/base",
          "model_name": "LayoutModel",
          "model_module_version": "1.2.0",
          "state": {
            "_model_module": "@jupyter-widgets/base",
            "_model_module_version": "1.2.0",
            "_model_name": "LayoutModel",
            "_view_count": null,
            "_view_module": "@jupyter-widgets/base",
            "_view_module_version": "1.2.0",
            "_view_name": "LayoutView",
            "align_content": null,
            "align_items": null,
            "align_self": null,
            "border": null,
            "bottom": null,
            "display": null,
            "flex": null,
            "flex_flow": null,
            "grid_area": null,
            "grid_auto_columns": null,
            "grid_auto_flow": null,
            "grid_auto_rows": null,
            "grid_column": null,
            "grid_gap": null,
            "grid_row": null,
            "grid_template_areas": null,
            "grid_template_columns": null,
            "grid_template_rows": null,
            "height": null,
            "justify_content": null,
            "justify_items": null,
            "left": null,
            "margin": null,
            "max_height": null,
            "max_width": null,
            "min_height": null,
            "min_width": null,
            "object_fit": null,
            "object_position": null,
            "order": null,
            "overflow": null,
            "overflow_x": null,
            "overflow_y": null,
            "padding": null,
            "right": null,
            "top": null,
            "visibility": null,
            "width": null
          }
        },
        "9b8913f99db44c9d924457bd4858d145": {
          "model_module": "@jupyter-widgets/controls",
          "model_name": "DescriptionStyleModel",
          "model_module_version": "1.5.0",
          "state": {
            "_model_module": "@jupyter-widgets/controls",
            "_model_module_version": "1.5.0",
            "_model_name": "DescriptionStyleModel",
            "_view_count": null,
            "_view_module": "@jupyter-widgets/base",
            "_view_module_version": "1.2.0",
            "_view_name": "StyleView",
            "description_width": ""
          }
        },
        "1e1de8a19e6d4dd795fef6a89aab247a": {
          "model_module": "@jupyter-widgets/base",
          "model_name": "LayoutModel",
          "model_module_version": "1.2.0",
          "state": {
            "_model_module": "@jupyter-widgets/base",
            "_model_module_version": "1.2.0",
            "_model_name": "LayoutModel",
            "_view_count": null,
            "_view_module": "@jupyter-widgets/base",
            "_view_module_version": "1.2.0",
            "_view_name": "LayoutView",
            "align_content": null,
            "align_items": null,
            "align_self": null,
            "border": null,
            "bottom": null,
            "display": null,
            "flex": null,
            "flex_flow": null,
            "grid_area": null,
            "grid_auto_columns": null,
            "grid_auto_flow": null,
            "grid_auto_rows": null,
            "grid_column": null,
            "grid_gap": null,
            "grid_row": null,
            "grid_template_areas": null,
            "grid_template_columns": null,
            "grid_template_rows": null,
            "height": null,
            "justify_content": null,
            "justify_items": null,
            "left": null,
            "margin": null,
            "max_height": null,
            "max_width": null,
            "min_height": null,
            "min_width": null,
            "object_fit": null,
            "object_position": null,
            "order": null,
            "overflow": null,
            "overflow_x": null,
            "overflow_y": null,
            "padding": null,
            "right": null,
            "top": null,
            "visibility": null,
            "width": null
          }
        },
        "874076274ff8483190474849d3ce16e2": {
          "model_module": "@jupyter-widgets/controls",
          "model_name": "ProgressStyleModel",
          "model_module_version": "1.5.0",
          "state": {
            "_model_module": "@jupyter-widgets/controls",
            "_model_module_version": "1.5.0",
            "_model_name": "ProgressStyleModel",
            "_view_count": null,
            "_view_module": "@jupyter-widgets/base",
            "_view_module_version": "1.2.0",
            "_view_name": "StyleView",
            "bar_color": null,
            "description_width": ""
          }
        },
        "b1ac914ab95441ff8e5637b4268c19b1": {
          "model_module": "@jupyter-widgets/base",
          "model_name": "LayoutModel",
          "model_module_version": "1.2.0",
          "state": {
            "_model_module": "@jupyter-widgets/base",
            "_model_module_version": "1.2.0",
            "_model_name": "LayoutModel",
            "_view_count": null,
            "_view_module": "@jupyter-widgets/base",
            "_view_module_version": "1.2.0",
            "_view_name": "LayoutView",
            "align_content": null,
            "align_items": null,
            "align_self": null,
            "border": null,
            "bottom": null,
            "display": null,
            "flex": null,
            "flex_flow": null,
            "grid_area": null,
            "grid_auto_columns": null,
            "grid_auto_flow": null,
            "grid_auto_rows": null,
            "grid_column": null,
            "grid_gap": null,
            "grid_row": null,
            "grid_template_areas": null,
            "grid_template_columns": null,
            "grid_template_rows": null,
            "height": null,
            "justify_content": null,
            "justify_items": null,
            "left": null,
            "margin": null,
            "max_height": null,
            "max_width": null,
            "min_height": null,
            "min_width": null,
            "object_fit": null,
            "object_position": null,
            "order": null,
            "overflow": null,
            "overflow_x": null,
            "overflow_y": null,
            "padding": null,
            "right": null,
            "top": null,
            "visibility": null,
            "width": null
          }
        },
        "6ccb1ed8fd5f4d43b379065d1aecf1bb": {
          "model_module": "@jupyter-widgets/controls",
          "model_name": "DescriptionStyleModel",
          "model_module_version": "1.5.0",
          "state": {
            "_model_module": "@jupyter-widgets/controls",
            "_model_module_version": "1.5.0",
            "_model_name": "DescriptionStyleModel",
            "_view_count": null,
            "_view_module": "@jupyter-widgets/base",
            "_view_module_version": "1.2.0",
            "_view_name": "StyleView",
            "description_width": ""
          }
        }
      }
    }
  },
  "nbformat": 4,
  "nbformat_minor": 0
}